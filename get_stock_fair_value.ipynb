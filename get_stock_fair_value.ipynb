{
 "cells": [
  {
   "cell_type": "code",
   "execution_count": 26,
   "metadata": {
    "tags": []
   },
   "outputs": [
    {
     "output_type": "stream",
     "name": "stdout",
     "text": "0YDGH75EGBYCCRBQ\n"
    }
   ],
   "source": [
    "# GUI for jupyter: https://docs.bamboolib.8080labs.com/\n",
    "\n",
    "import requests\n",
    "from config import AV_API_KEY\n",
    "\n",
    "STOCK_SYMBOL = 'INTC'\n",
    "AV_URL = \"https://www.alphavantage.co/query\" # Alpha Vantage API call: \n",
    "\n",
    "\n",
    "def get_from_av(sym, query_type):\n",
    "    return requests.get(AV_URL, params={\n",
    "        \"function\": query_type,\n",
    "        \"symbol\": sym,\n",
    "        \"apikey\": AV_API_KEY\n",
    "    }).json()\n",
    "\n",
    "def get_stock_data(sym):\n",
    "    '''retrieve data from Alpha Vantage: OVERVIEW, BALANCE_SHEET, TIME_SERIES_MONTHLY_ADJUSTED'''\n",
    "    data = {}\n",
    "    query_types = []\n",
    "    data['overview'] = get_from_av(sym, 'OVERVIEW')\n",
    "    data['annual_reports'] = get_from_av(sym, 'BALANCE_SHEET')['annualReports']\n",
    "    data['monthly_quotes'] = get_from_av(sym, 'TIME_SERIES_MONTHLY_ADJUSTED')\n",
    "    return data\n",
    "\n",
    "data = None\n",
    "data = get_stock_data(STOCK_SYMBOL)"
   ]
  },
  {
   "cell_type": "code",
   "execution_count": 20,
   "metadata": {
    "scrolled": true,
    "tags": []
   },
   "outputs": [
    {
     "output_type": "stream",
     "name": "stdout",
     "text": "{'Symbol': 'INTC', 'AssetType': 'Common Stock', 'Name': 'Intel Corporation', 'Description': 'Intel Corporation provides computing, networking, data storage, and communication solutions worldwide. It operates through Data Center Group, Internet of Things Group, Non-Volatile Memory Solutions Group, Programmable Solutions Group, Client Computing Group, and All Other segments. The company offers platform products, such as CPU and chipset, system-on-chip, and multichip package products for cloud, enterprise, and communication infrastructure markets. It also provides NAND flash memory and DC persistent products for enterprise and cloud-based data centers, and users of business and consumer desktops and laptops; programmable semiconductors, such as field-programmable gate arrays, application-specific integrated circuits, and related products for communications, data center, industrial, and military markets; and various processors for notebooks, mobiles, and desktop PCs. In addition, it offers boards and systems, such as server boards and small form factor systems; and connectivity products for cellular modems, Ethernet controllers, silicon photonics, Wi-Fi, and Bluetooth. Further, the company develops computer vision and machine learning- based sensing, data analysis, localization, mapping, and driving policy technologies for advanced driver assistance systems and autonomous driving. It serves original equipment manufacturers, original design manufacturers, industrial and communication equipment manufacturers, and cloud service providers. The company was founded in 1968 and is headquartered in Santa Clara, California.', 'Exchange': 'NASDAQ', 'Currency': 'USD', 'Country': 'USA', 'Sector': 'Technology', 'Industry': 'Semiconductors', 'Address': '2200 Mission College Boulevard, Santa Clara, United States, 95054-1549', 'FullTimeEmployees': '110', 'FiscalYearEnd': 'December', 'LatestQuarter': '2020-06-30', 'MarketCapitalization': '206525677568', 'EBITDA': '38118998016', 'PERatio': '9.0756', 'PEGRatio': '1.7968', 'BookValue': '19.283', 'DividendPerShare': '1.32', 'DividendYield': '0.0268', 'EPS': '5.443', 'RevenuePerShareTTM': '18.338', 'ProfitMargin': '0.2997', 'OperatingMarginTTM': '0.3339', 'ReturnOnAssetsTTM': '0.1163', 'ReturnOnEquityTTM': '0.3015', 'RevenueTTM': '78955003904', 'GrossProfitTTM': '42140000000', 'DilutedEPSTTM': '5.443', 'QuarterlyEarningsGrowthYOY': '0.293', 'QuarterlyRevenueGrowthYOY': '0.195', 'AnalystTargetPrice': '56.82', 'TrailingPE': '9.0756', 'ForwardPE': '10.8696', 'PriceToSalesRatioTTM': '2.7104', 'PriceToBookRatio': '2.551', 'EVToRevenue': '2.8084', 'EVToEBITDA': '5.5948', 'Beta': '0.6879', '52WeekHigh': '69.29', '52WeekLow': '43.63', '50DayMovingAverage': '55.0663', '200DayMovingAverage': '58.2721', 'SharesOutstanding': '4252999936', 'SharesFloat': '4249427480', 'SharesShort': '33600057', 'SharesShortPriorMonth': '38856951', 'ShortRatio': '1.17', 'ShortPercentOutstanding': '0.01', 'ShortPercentFloat': '0.01', 'PercentInsiders': '0.045', 'PercentInstitutions': '69.042', 'ForwardAnnualDividendRate': '1.32', 'ForwardAnnualDividendYield': '0.0268', 'PayoutRatio': '0.238', 'DividendDate': '2020-09-01', 'ExDividendDate': '2020-08-06', 'LastSplitFactor': '2:1', 'LastSplitDate': '2000-07-31'}\n"
    }
   ],
   "source": [
    "print(data['overview'])"
   ]
  },
  {
   "cell_type": "code",
   "execution_count": 21,
   "metadata": {
    "scrolled": false
   },
   "outputs": [
    {
     "output_type": "execute_result",
     "data": {
      "text/plain": "dict_keys(['Symbol', 'AssetType', 'Name', 'Description', 'Exchange', 'Currency', 'Country', 'Sector', 'Industry', 'Address', 'FullTimeEmployees', 'FiscalYearEnd', 'LatestQuarter', 'MarketCapitalization', 'EBITDA', 'PERatio', 'PEGRatio', 'BookValue', 'DividendPerShare', 'DividendYield', 'EPS', 'RevenuePerShareTTM', 'ProfitMargin', 'OperatingMarginTTM', 'ReturnOnAssetsTTM', 'ReturnOnEquityTTM', 'RevenueTTM', 'GrossProfitTTM', 'DilutedEPSTTM', 'QuarterlyEarningsGrowthYOY', 'QuarterlyRevenueGrowthYOY', 'AnalystTargetPrice', 'TrailingPE', 'ForwardPE', 'PriceToSalesRatioTTM', 'PriceToBookRatio', 'EVToRevenue', 'EVToEBITDA', 'Beta', '52WeekHigh', '52WeekLow', '50DayMovingAverage', '200DayMovingAverage', 'SharesOutstanding', 'SharesFloat', 'SharesShort', 'SharesShortPriorMonth', 'ShortRatio', 'ShortPercentOutstanding', 'ShortPercentFloat', 'PercentInsiders', 'PercentInstitutions', 'ForwardAnnualDividendRate', 'ForwardAnnualDividendYield', 'PayoutRatio', 'DividendDate', 'ExDividendDate', 'LastSplitFactor', 'LastSplitDate'])"
     },
     "metadata": {},
     "execution_count": 21
    }
   ],
   "source": [
    "data['overview'].keys()"
   ]
  },
  {
   "cell_type": "code",
   "execution_count": 22,
   "metadata": {
    "tags": []
   },
   "outputs": [
    {
     "output_type": "stream",
     "name": "stdout",
     "text": "{'fiscalDateEnding': '2019-12-31', 'reportedCurrency': 'USD', 'totalAssets': '136524000000', 'intangibleAssets': '10827000000', 'earningAssets': 'None', 'otherCurrentAssets': '46977000000', 'totalLiabilities': '57497000000', 'totalShareholderEquity': '77504000000', 'deferredLongTermLiabilities': '2044000000', 'otherCurrentLiabilities': '10636000000', 'commonStock': '25261000000', 'retainedEarnings': '53523000000', 'otherLiabilities': '11027000000', 'goodwill': '26276000000', 'otherAssets': '4925000000', 'cash': '3276000000', 'totalCurrentLiabilities': '22310000000', 'shortTermDebt': '3693000000', 'currentLongTermDebt': '3693000000', 'otherShareholderEquity': '-1280000000', 'propertyPlantEquipment': '56014000000', 'totalCurrentAssets': '31239000000', 'longTermInvestments': '7243000000', 'netTangibleAssets': '40401000000', 'shortTermInvestments': '8929000000', 'netReceivables': '13212000000', 'longTermDebt': '25308000000', 'inventory': '8744000000', 'accountsPayable': '7981000000', 'totalPermanentEquity': 'None', 'additionalPaidInCapital': 'None', 'commonStockTotalEquity': '25261000000', 'preferredStockTotalEquity': 'None', 'retainedEarningsTotalEquity': '53523000000', 'treasuryStock': 'None', 'accumulatedAmortization': 'None', 'otherNonCurrrentAssets': '2149000000', 'deferredLongTermAssetCharges': 'None', 'totalNonCurrentAssets': '55386000000', 'capitalLeaseObligations': 'None', 'totalLongTermDebt': '25308000000', 'otherNonCurrentLiabilities': '7835000000', 'totalNonCurrentLiabilities': '35187000000', 'negativeGoodwill': 'None', 'warrants': '155000000', 'preferredStockRedeemable': 'None', 'capitalSurplus': 'None', 'liabilitiesAndShareholderEquity': '136524000000', 'cashAndShortTermInvestments': '12205000000', 'accumulatedDepreciation': 'None', 'commonStockSharesOutstanding': '4290000000'}\n"
    }
   ],
   "source": [
    "# Displays latests Annual Report\n",
    "print(data['annual_reports'][0])"
   ]
  },
  {
   "cell_type": "code",
   "execution_count": 23,
   "metadata": {},
   "outputs": [
    {
     "output_type": "execute_result",
     "data": {
      "text/plain": "dict_keys(['fiscalDateEnding', 'reportedCurrency', 'totalAssets', 'intangibleAssets', 'earningAssets', 'otherCurrentAssets', 'totalLiabilities', 'totalShareholderEquity', 'deferredLongTermLiabilities', 'otherCurrentLiabilities', 'commonStock', 'retainedEarnings', 'otherLiabilities', 'goodwill', 'otherAssets', 'cash', 'totalCurrentLiabilities', 'shortTermDebt', 'currentLongTermDebt', 'otherShareholderEquity', 'propertyPlantEquipment', 'totalCurrentAssets', 'longTermInvestments', 'netTangibleAssets', 'shortTermInvestments', 'netReceivables', 'longTermDebt', 'inventory', 'accountsPayable', 'totalPermanentEquity', 'additionalPaidInCapital', 'commonStockTotalEquity', 'preferredStockTotalEquity', 'retainedEarningsTotalEquity', 'treasuryStock', 'accumulatedAmortization', 'otherNonCurrrentAssets', 'deferredLongTermAssetCharges', 'totalNonCurrentAssets', 'capitalLeaseObligations', 'totalLongTermDebt', 'otherNonCurrentLiabilities', 'totalNonCurrentLiabilities', 'negativeGoodwill', 'warrants', 'preferredStockRedeemable', 'capitalSurplus', 'liabilitiesAndShareholderEquity', 'cashAndShortTermInvestments', 'accumulatedDepreciation', 'commonStockSharesOutstanding'])"
     },
     "metadata": {},
     "execution_count": 23
    }
   ],
   "source": [
    "data['annual_reports'][0].keys()"
   ]
  },
  {
   "cell_type": "code",
   "execution_count": 31,
   "metadata": {
    "tags": []
   },
   "outputs": [
    {
     "output_type": "stream",
     "name": "stdout",
     "text": "SHARE PRICE from EBITDA:  43.33\n"
    }
   ],
   "source": [
    "# Calculate Historical Fair Value (11 years) from:\n",
    "# 5-yr average yield\n",
    "# 12-yr median yield\n",
    "# Earnings\n",
    "# Owner earnings\n",
    "# Operating cash flow\n",
    "# Free cash flow\n",
    "# EBITDA\n",
    "# EBIT\n",
    "## Then average these all together\n",
    "\n",
    "# calculate equity value from EV/EBITDA\n",
    "# https://www.wallstreetoasis.com/forums/evebidta-to-target-price#:~:text=With%20the%20EV%2FEBITDA%20multiple,the%20equity%20value%20per%20share.\n",
    "enterprise_value = float(data['overview']['EVToEBITDA']) * float(data['overview']['EBITDA'])\n",
    "total_debt = float(data['annual_reports'][0]['shortTermDebt']) + float(data['annual_reports'][0]['longTermDebt'])\n",
    "equity_value = float(enterprise_value) - float(total_debt)\n",
    "share_price = round(float(equity_value) / float(data['overview']['SharesOutstanding']), 2)\n",
    "print(\"SHARE PRICE from EBITDA: \", share_price) # NOTE: SEEMS TO BE CURRENT YEAR. \n",
    "\n",
    "#TODO: Calculate share price from EBITDA for past 11-yrs"
   ]
  }
 ],
 "metadata": {
  "kernelspec": {
   "display_name": "Python 3",
   "language": "python",
   "name": "python3"
  },
  "language_info": {
   "codemirror_mode": {
    "name": "ipython",
    "version": 3
   },
   "file_extension": ".py",
   "mimetype": "text/x-python",
   "name": "python",
   "nbconvert_exporter": "python",
   "pygments_lexer": "ipython3",
   "version": "3.6.9-final"
  }
 },
 "nbformat": 4,
 "nbformat_minor": 2
}