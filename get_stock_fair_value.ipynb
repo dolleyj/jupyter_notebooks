{
 "cells": [
  {
   "cell_type": "code",
   "execution_count": null,
   "metadata": {},
   "outputs": [],
   "source": []
  },
  {
   "cell_type": "code",
   "execution_count": 43,
   "metadata": {
    "tags": []
   },
   "outputs": [
    {
     "output_type": "stream",
     "name": "stdout",
     "text": [
      "{\n  \"overview\": {\n    \"Symbol\": \"ABBV\",\n    \"AssetType\": \"Common Stock\",\n    \"Name\": \"AbbVie Inc\",\n    \"Description\": \"AbbVie Inc. discovers, develops, manufactures, and sells pharmaceuticals in the United States, Japan, Germany, Canada, France, Spain, Italy, the Netherlands, the United Kingdom, Brazil, and internationally. The company offers HUMIRA, a therapy administered as an injection for autoimmune and intestinal Behet's diseases; SKYRIZI to treat moderate to severe plaque psoriasis in adults; RINVOQ, a JAK inhibitor for the treatment of moderate to severe active rheumatoid arthritis in adult patients; IMBRUVICA to treat adult patients with chronic lymphocytic leukemia (CLL), small lymphocytic lymphoma (SLL), mantle cell lymphoma, waldenstrm's macroglobulinemia, marginal zone lymphoma, and chronic graft versus host disease; VENCLEXTA, a BCL-2 inhibitor used to treat adults with CLL or SLL; VIEKIRA PAK, an interferon-free therapy to treat adults with genotype 1 chronic hepatitis C virus (HCV); TECHNIVIE to treat adults with genotype 4 HCV infection; and MAVYRET to treat patients with chronic HCV genotype 1-6 infection. It also provides SYNAGIS that protects at-risk infants from severe respiratory disease; KALETRA, a prescription anti-HIV-1 medicine; CREON, a pancreatic enzyme therapy for exocrine pancreatic insufficiency; Synthroid used in the treatment of hypothyroidism; AndroGel for males diagnosed with symptomatic low testosterone; and Lupron, a product for the palliative treatment of advanced prostate cancer, endometriosis and central precocious puberty, and patients with anemia caused by uterine fibroids. In addition, the company offers ORILISSA, a nonpeptide small molecule gonadotropin-releasing hormone antagonist; Duopa and Duodopa, a levodopa-carbidopa intestinal gel to treat Parkinson's disease; and Sevoflurane, an anesthesia product. It has collaborations with Calico Life Sciences LLC; Alector, Inc.; Janssen Biotech, Inc.; Jacobio Pharmaceuticals; I-Mab; and Genmab A/S. The company was incorporated in 2012 and is based in North Chicago, Illinois.\",\n    \"Exchange\": \"NYSE\",\n    \"Currency\": \"USD\",\n    \"Country\": \"USA\",\n    \"Sector\": \"Healthcare\",\n    \"Industry\": \"Drug ManufacturersGeneral\",\n    \"Address\": \"1 North Waukegan Road, North Chicago, IL, United States, 60064\",\n    \"FullTimeEmployees\": \"47000\",\n    \"FiscalYearEnd\": \"December\",\n    \"LatestQuarter\": \"2020-06-30\",\n    \"MarketCapitalization\": \"148845756416\",\n    \"EBITDA\": \"16728999936\",\n    \"PERatio\": \"18.4486\",\n    \"PEGRatio\": \"1.2788\",\n    \"BookValue\": \"8.337\",\n    \"DividendPerShare\": \"4.72\",\n    \"DividendYield\": \"0.056\",\n    \"EPS\": \"4.523\",\n    \"RevenuePerShareTTM\": \"23.787\",\n    \"ProfitMargin\": \"0.192\",\n    \"OperatingMarginTTM\": \"0.3755\",\n    \"ReturnOnAssetsTTM\": \"0.0823\",\n    \"ReturnOnEquityTTM\": \"2.2562\",\n    \"RevenueTTM\": \"36226998272\",\n    \"GrossProfitTTM\": \"25827000000\",\n    \"DilutedEPSTTM\": \"4.523\",\n    \"QuarterlyEarningsGrowthYOY\": \"0.224\",\n    \"QuarterlyRevenueGrowthYOY\": \"0.263\",\n    \"AnalystTargetPrice\": \"109.12\",\n    \"TrailingPE\": \"18.4486\",\n    \"ForwardPE\": \"6.9541\",\n    \"PriceToSalesRatioTTM\": \"3.5526\",\n    \"PriceToBookRatio\": \"10.1165\",\n    \"EVToRevenue\": \"6.354\",\n    \"EVToEBITDA\": \"17.9272\",\n    \"Beta\": \"0.7066\",\n    \"52WeekHigh\": \"101.28\",\n    \"52WeekLow\": \"62.55\",\n    \"50DayMovingAverage\": \"87.8074\",\n    \"200DayMovingAverage\": \"90.9214\",\n    \"SharesOutstanding\": \"1764829952\",\n    \"SharesFloat\": \"1762362479\",\n    \"SharesShort\": \"12944987\",\n    \"SharesShortPriorMonth\": \"12163272\",\n    \"ShortRatio\": \"1.62\",\n    \"ShortPercentOutstanding\": \"0.01\",\n    \"ShortPercentFloat\": \"0.0073\",\n    \"PercentInsiders\": \"0.111\",\n    \"PercentInstitutions\": \"76.761\",\n    \"ForwardAnnualDividendRate\": \"4.72\",\n    \"ForwardAnnualDividendYield\": \"0.056\",\n    \"PayoutRatio\": \"0.5075\",\n    \"DividendDate\": \"2020-11-16\",\n    \"ExDividendDate\": \"2020-10-14\",\n    \"LastSplitFactor\": \"None\",\n    \"LastSplitDate\": \"None\"\n  },\n  \"income\": [\n    {\n      \"fiscalDateEnding\": \"2019-12-31\",\n      \"reportedCurrency\": \"USD\",\n      \"totalRevenue\": \"33266000000\",\n      \"totalOperatingExpense\": \"12844000000\",\n      \"costOfRevenue\": \"7439000000\",\n      \"grossProfit\": \"25827000000\",\n      \"ebit\": \"9935000000\",\n      \"netIncome\": \"7882000000\",\n      \"researchAndDevelopment\": \"6407000000\",\n      \"effectOfAccountingCharges\": \"None\",\n      \"incomeBeforeTax\": \"8426000000\",\n      \"minorityInterest\": \"None\",\n      \"sellingGeneralAdministrative\": \"6942000000\",\n      \"otherNonOperatingIncome\": \"-3048000000\",\n      \"operatingIncome\": \"12983000000\",\n      \"otherOperatingExpense\": \"-890000000\",\n      \"interestExpense\": \"1509000000\",\n      \"taxProvision\": \"544000000\",\n      \"interestIncome\": \"275000000\",\n      \"netInterestIncome\": \"-1509000000\",\n      \"extraordinaryItems\": \"None\",\n      \"nonRecurring\": \"385000000\",\n      \"otherItems\": \"None\",\n      \"incomeTaxExpense\": \"544000000\",\n      \"totalOtherIncomeExpense\": \"-3048000000\",\n      \"discontinuedOperations\": \"None\",\n      \"netIncomeFromContinuingOperations\": \"7882000000\",\n      \"netIncomeApplicableToCommonShares\": \"7882000000\",\n      \"preferredStockAndOtherAdjustments\": \"None\"\n    },\n    {\n      \"fiscalDateEnding\": \"2018-12-31\",\n      \"reportedCurrency\": \"USD\",\n      \"totalRevenue\": \"32753000000\",\n      \"totalOperatingExpense\": \"18652000000\",\n      \"costOfRevenue\": \"7718000000\",\n      \"grossProfit\": \"25035000000\",\n      \"ebit\": \"6341000000\",\n      \"netIncome\": \"5687000000\",\n      \"researchAndDevelopment\": \"10329000000\",\n      \"effectOfAccountingCharges\": \"None\",\n      \"incomeBeforeTax\": \"5197000000\",\n      \"minorityInterest\": \"None\",\n      \"sellingGeneralAdministrative\": \"7899000000\",\n      \"otherNonOperatingIncome\": \"-42000000\",\n      \"operatingIncome\": \"6383000000\",\n      \"otherOperatingExpense\": \"500000000\",\n      \"interestExpense\": \"1144000000\",\n      \"taxProvision\": \"-490000000\",\n      \"interestIncome\": \"204000000\",\n      \"netInterestIncome\": \"-1144000000\",\n      \"extraordinaryItems\": \"-86000000\",\n      \"nonRecurring\": \"424000000\",\n      \"otherItems\": \"None\",\n      \"incomeTaxExpense\": \"-490000000\",\n      \"totalOtherIncomeExpense\": \"-42000000\",\n      \"discontinuedOperations\": \"None\",\n      \"netIncomeFromContinuingOperations\": \"5687000000\",\n      \"netIncomeApplicableToCommonShares\": \"5687000000\",\n      \"preferredStockAndOtherAdjustments\": \"None\"\n    },\n    {\n      \"fiscalDateEnding\": \"2017-12-31\",\n      \"reportedCurrency\": \"USD\",\n      \"totalRevenue\": \"28216000000\",\n      \"totalOperatingExpense\": \"11584000000\",\n      \"costOfRevenue\": \"7040000000\",\n      \"grossProfit\": \"21176000000\",\n      \"ebit\": \"8731000000\",\n      \"netIncome\": \"5309000000\",\n      \"researchAndDevelopment\": \"4982000000\",\n      \"effectOfAccountingCharges\": \"None\",\n      \"incomeBeforeTax\": \"7727000000\",\n      \"minorityInterest\": \"None\",\n      \"sellingGeneralAdministrative\": \"6275000000\",\n      \"otherNonOperatingIncome\": \"-861000000\",\n      \"operatingIncome\": \"9592000000\",\n      \"otherOperatingExpense\": \"500000000\",\n      \"interestExpense\": \"1004000000\",\n      \"taxProvision\": \"2418000000\",\n      \"interestIncome\": \"146000000\",\n      \"netInterestIncome\": \"-1004000000\",\n      \"extraordinaryItems\": \"-400000000\",\n      \"nonRecurring\": \"327000000\",\n      \"otherItems\": \"None\",\n      \"incomeTaxExpense\": \"2418000000\",\n      \"totalOtherIncomeExpense\": \"-861000000\",\n      \"discontinuedOperations\": \"None\",\n      \"netIncomeFromContinuingOperations\": \"5309000000\",\n      \"netIncomeApplicableToCommonShares\": \"5309000000\",\n      \"preferredStockAndOtherAdjustments\": \"None\"\n    },\n    {\n      \"fiscalDateEnding\": \"2016-12-31\",\n      \"reportedCurrency\": \"USD\",\n      \"totalRevenue\": \"25638000000\",\n      \"totalOperatingExpense\": \"10421000000\",\n      \"costOfRevenue\": \"5833000000\",\n      \"grossProfit\": \"19805000000\",\n      \"ebit\": \"8849000000\",\n      \"netIncome\": \"5953000000\",\n      \"researchAndDevelopment\": \"4366000000\",\n      \"effectOfAccountingCharges\": \"None\",\n      \"incomeBeforeTax\": \"7884000000\",\n      \"minorityInterest\": \"None\",\n      \"sellingGeneralAdministrative\": \"5855000000\",\n      \"otherNonOperatingIncome\": \"-535000000\",\n      \"operatingIncome\": \"9384000000\",\n      \"otherOperatingExpense\": \"500000000\",\n      \"interestExpense\": \"965000000\",\n      \"taxProvision\": \"1931000000\",\n      \"interestIncome\": \"82000000\",\n      \"netInterestIncome\": \"-965000000\",\n      \"extraordinaryItems\": \"None\",\n      \"nonRecurring\": \"200000000\",\n      \"otherItems\": \"None\",\n      \"incomeTaxExpense\": \"1931000000\",\n      \"totalOtherIncomeExpense\": \"-535000000\",\n      \"discontinuedOperations\": \"None\",\n      \"netIncomeFromContinuingOperations\": \"5953000000\",\n      \"netIncomeApplicableToCommonShares\": \"5953000000\",\n      \"preferredStockAndOtherAdjustments\": \"None\"\n    },\n    {\n      \"fiscalDateEnding\": \"2015-12-31\",\n      \"reportedCurrency\": \"USD\",\n      \"totalRevenue\": \"22859000000\",\n      \"totalOperatingExpense\": \"10822000000\",\n      \"costOfRevenue\": \"4500000000\",\n      \"grossProfit\": \"18359000000\",\n      \"ebit\": \"7331000000\",\n      \"netIncome\": \"5144000000\",\n      \"researchAndDevelopment\": \"4285000000\",\n      \"effectOfAccountingCharges\": \"None\",\n      \"incomeBeforeTax\": \"6645000000\",\n      \"minorityInterest\": \"None\",\n      \"sellingGeneralAdministrative\": \"6387000000\",\n      \"otherNonOperatingIncome\": \"-206000000\",\n      \"operatingIncome\": \"7537000000\",\n      \"otherOperatingExpense\": \"500000000\",\n      \"interestExpense\": \"686000000\",\n      \"taxProvision\": \"1501000000\",\n      \"interestIncome\": \"-879000000\",\n      \"netInterestIncome\": \"None\",\n      \"extraordinaryItems\": \"None\",\n      \"nonRecurring\": \"150000000\",\n      \"otherItems\": \"None\",\n      \"incomeTaxExpense\": \"1501000000\",\n      \"totalOtherIncomeExpense\": \"-2211000000\",\n      \"discontinuedOperations\": \"None\",\n      \"netIncomeFromContinuingOperations\": \"5144000000\",\n      \"netIncomeApplicableToCommonShares\": \"5144000000\",\n      \"preferredStockAndOtherAdjustments\": \"None\"\n    }\n  ],\n  \"balance\": [\n    {\n      \"fiscalDateEnding\": \"2019-12-31\",\n      \"reportedCurrency\": \"USD\",\n      \"totalAssets\": \"89115000000\",\n      \"intangibleAssets\": \"18649000000\",\n      \"earningAssets\": \"None\",\n      \"otherCurrentAssets\": \"2354000000\",\n      \"totalLiabilities\": \"97287000000\",\n      \"totalShareholderEquity\": \"-8172000000\",\n      \"deferredLongTermLiabilities\": \"1130000000\",\n      \"otherCurrentLiabilities\": \"4633000000\",\n      \"commonStock\": \"18000000\",\n      \"retainedEarnings\": \"4717000000\",\n      \"otherLiabilities\": \"18476000000\",\n      \"goodwill\": \"15604000000\",\n      \"otherAssets\": \"1913000000\",\n      \"cash\": \"39924000000\",\n      \"totalCurrentLiabilities\": \"15585000000\",\n      \"shortTermDebt\": \"3753000000\",\n      \"currentLongTermDebt\": \"3753000000\",\n      \"otherShareholderEquity\": \"-3596000000\",\n      \"propertyPlantEquipment\": \"2962000000\",\n      \"totalCurrentAssets\": \"49519000000\",\n      \"longTermInvestments\": \"93000000\",\n      \"netTangibleAssets\": \"-42425000000\",\n      \"shortTermInvestments\": \"0\",\n      \"netReceivables\": \"5428000000\",\n      \"longTermDebt\": \"62975000000\",\n      \"inventory\": \"1813000000\",\n      \"accountsPayable\": \"11832000000\",\n      \"totalPermanentEquity\": \"None\",\n      \"additionalPaidInCapital\": \"None\",\n      \"commonStockTotalEquity\": \"18000000\",\n      \"preferredStockTotalEquity\": \"None\",\n      \"retainedEarningsTotalEquity\": \"4717000000\",\n      \"treasuryStock\": \"-24504000000\",\n      \"accumulatedAmortization\": \"None\",\n      \"otherNonCurrrentAssets\": \"2288000000\",\n      \"deferredLongTermAssetCharges\": \"None\",\n      \"totalNonCurrentAssets\": \"39596000000\",\n      \"capitalLeaseObligations\": \"None\",\n      \"totalLongTermDebt\": \"62975000000\",\n      \"otherNonCurrentLiabilities\": \"17597000000\",\n      \"totalNonCurrentLiabilities\": \"81702000000\",\n      \"negativeGoodwill\": \"None\",\n      \"warrants\": \"None\",\n      \"preferredStockRedeemable\": \"None\",\n      \"capitalSurplus\": \"15193000000\",\n      \"liabilitiesAndShareholderEquity\": \"89115000000\",\n      \"cashAndShortTermInvestments\": \"39924000000\",\n      \"accumulatedDepreciation\": \"None\",\n      \"commonStockSharesOutstanding\": \"1484000000\"\n    },\n    {\n      \"fiscalDateEnding\": \"2018-12-31\",\n      \"reportedCurrency\": \"USD\",\n      \"totalAssets\": \"59352000000\",\n      \"intangibleAssets\": \"21233000000\",\n      \"earningAssets\": \"None\",\n      \"otherCurrentAssets\": \"1895000000\",\n      \"totalLiabilities\": \"67798000000\",\n      \"totalShareholderEquity\": \"-8446000000\",\n      \"deferredLongTermLiabilities\": \"1067000000\",\n      \"otherCurrentLiabilities\": \"5355000000\",\n      \"commonStock\": \"18000000\",\n      \"retainedEarnings\": \"3368000000\",\n      \"otherLiabilities\": \"15557000000\",\n      \"goodwill\": \"15663000000\",\n      \"otherAssets\": \"1208000000\",\n      \"cash\": \"7289000000\",\n      \"totalCurrentLiabilities\": \"17239000000\",\n      \"shortTermDebt\": \"5308000000\",\n      \"currentLongTermDebt\": \"5308000000\",\n      \"otherShareholderEquity\": \"-2480000000\",\n      \"propertyPlantEquipment\": \"2883000000\",\n      \"totalCurrentAssets\": \"16945000000\",\n      \"longTermInvestments\": \"1420000000\",\n      \"netTangibleAssets\": \"-45342000000\",\n      \"shortTermInvestments\": \"772000000\",\n      \"netReceivables\": \"5384000000\",\n      \"longTermDebt\": \"35002000000\",\n      \"inventory\": \"1605000000\",\n      \"accountsPayable\": \"11931000000\",\n      \"totalPermanentEquity\": \"None\",\n      \"additionalPaidInCapital\": \"None\",\n      \"commonStockTotalEquity\": \"18000000\",\n      \"preferredStockTotalEquity\": \"None\",\n      \"retainedEarningsTotalEquity\": \"3368000000\",\n      \"treasuryStock\": \"-24108000000\",\n      \"accumulatedAmortization\": \"None\",\n      \"otherNonCurrrentAssets\": \"1208000000\",\n      \"deferredLongTermAssetCharges\": \"None\",\n      \"totalNonCurrentAssets\": \"42407000000\",\n      \"capitalLeaseObligations\": \"None\",\n      \"totalLongTermDebt\": \"35002000000\",\n      \"otherNonCurrentLiabilities\": \"14490000000\",\n      \"totalNonCurrentLiabilities\": \"50559000000\",\n      \"negativeGoodwill\": \"None\",\n      \"warrants\": \"None\",\n      \"preferredStockRedeemable\": \"None\",\n      \"capitalSurplus\": \"14756000000\",\n      \"liabilitiesAndShareholderEquity\": \"59352000000\",\n      \"cashAndShortTermInvestments\": \"8061000000\",\n      \"accumulatedDepreciation\": \"None\",\n      \"commonStockSharesOutstanding\": \"1546000000\"\n    },\n    {\n      \"fiscalDateEnding\": \"2017-12-31\",\n      \"reportedCurrency\": \"USD\",\n      \"totalAssets\": \"70786000000\",\n      \"intangibleAssets\": \"27559000000\",\n      \"earningAssets\": \"None\",\n      \"otherCurrentAssets\": \"4741000000\",\n      \"totalLiabilities\": \"65689000000\",\n      \"totalShareholderEquity\": \"5097000000\",\n      \"deferredLongTermLiabilities\": \"2490000000\",\n      \"otherCurrentLiabilities\": \"4406000000\",\n      \"commonStock\": \"18000000\",\n      \"retainedEarnings\": \"5459000000\",\n      \"otherLiabilities\": \"18095000000\",\n      \"goodwill\": \"15785000000\",\n      \"otherAssets\": \"1326000000\",\n      \"cash\": \"9303000000\",\n      \"totalCurrentLiabilities\": \"16641000000\",\n      \"shortTermDebt\": \"6415000000\",\n      \"currentLongTermDebt\": \"6415000000\",\n      \"otherShareholderEquity\": \"-2727000000\",\n      \"propertyPlantEquipment\": \"2803000000\",\n      \"totalCurrentAssets\": \"21223000000\",\n      \"longTermInvestments\": \"2090000000\",\n      \"netTangibleAssets\": \"-38247000000\",\n      \"shortTermInvestments\": \"486000000\",\n      \"netReceivables\": \"5088000000\",\n      \"longTermDebt\": \"30953000000\",\n      \"inventory\": \"1605000000\",\n      \"accountsPayable\": \"10226000000\",\n      \"totalPermanentEquity\": \"0\",\n      \"additionalPaidInCapital\": \"0\",\n      \"commonStockTotalEquity\": \"18000000\",\n      \"preferredStockTotalEquity\": \"0\",\n      \"retainedEarningsTotalEquity\": \"5459000000\",\n      \"treasuryStock\": \"-11923000000\",\n      \"accumulatedAmortization\": \"None\",\n      \"otherNonCurrrentAssets\": \"1326000000\",\n      \"deferredLongTermAssetCharges\": \"None\",\n      \"totalNonCurrentAssets\": \"49563000000\",\n      \"capitalLeaseObligations\": \"None\",\n      \"totalLongTermDebt\": \"30953000000\",\n      \"otherNonCurrentLiabilities\": \"15605000000\",\n      \"totalNonCurrentLiabilities\": \"49048000000\",\n      \"negativeGoodwill\": \"None\",\n      \"warrants\": \"None\",\n      \"preferredStockRedeemable\": \"None\",\n      \"capitalSurplus\": \"14270000000\",\n      \"liabilitiesAndShareholderEquity\": \"70786000000\",\n      \"cashAndShortTermInvestments\": \"9789000000\",\n      \"accumulatedDepreciation\": \"None\",\n      \"commonStockSharesOutstanding\": \"1603000000\"\n    },\n    {\n      \"fiscalDateEnding\": \"2016-12-31\",\n      \"reportedCurrency\": \"USD\",\n      \"totalAssets\": \"66099000000\",\n      \"intangibleAssets\": \"28897000000\",\n      \"earningAssets\": \"None\",\n      \"otherCurrentAssets\": \"3562000000\",\n      \"totalLiabilities\": \"61463000000\",\n      \"totalShareholderEquity\": \"4636000000\",\n      \"deferredLongTermLiabilities\": \"6890000000\",\n      \"otherCurrentLiabilities\": \"4007000000\",\n      \"commonStock\": \"18000000\",\n      \"retainedEarnings\": \"4378000000\",\n      \"otherLiabilities\": \"15242000000\",\n      \"goodwill\": \"15416000000\",\n      \"otherAssets\": \"1212000000\",\n      \"cash\": \"5100000000\",\n      \"totalCurrentLiabilities\": \"9781000000\",\n      \"shortTermDebt\": \"402000000\",\n      \"currentLongTermDebt\": \"402000000\",\n      \"otherShareholderEquity\": \"-2586000000\",\n      \"propertyPlantEquipment\": \"2604000000\",\n      \"totalCurrentAssets\": \"16187000000\",\n      \"longTermInvestments\": \"1783000000\",\n      \"netTangibleAssets\": \"-39677000000\",\n      \"shortTermInvestments\": \"1323000000\",\n      \"netReceivables\": \"4758000000\",\n      \"longTermDebt\": \"36440000000\",\n      \"inventory\": \"1444000000\",\n      \"accountsPayable\": \"9379000000\",\n      \"totalPermanentEquity\": \"0\",\n      \"additionalPaidInCapital\": \"0\",\n      \"commonStockTotalEquity\": \"18000000\",\n      \"preferredStockTotalEquity\": \"0\",\n      \"retainedEarningsTotalEquity\": \"4378000000\",\n      \"treasuryStock\": \"-10852000000\",\n      \"accumulatedAmortization\": \"None\",\n      \"otherNonCurrrentAssets\": \"1212000000\",\n      \"deferredLongTermAssetCharges\": \"None\",\n      \"totalNonCurrentAssets\": \"49912000000\",\n      \"capitalLeaseObligations\": \"None\",\n      \"totalLongTermDebt\": \"36440000000\",\n      \"otherNonCurrentLiabilities\": \"8352000000\",\n      \"totalNonCurrentLiabilities\": \"51682000000\",\n      \"negativeGoodwill\": \"None\",\n      \"warrants\": \"None\",\n      \"preferredStockRedeemable\": \"None\",\n      \"capitalSurplus\": \"13678000000\",\n      \"liabilitiesAndShareholderEquity\": \"66099000000\",\n      \"cashAndShortTermInvestments\": \"6423000000\",\n      \"accumulatedDepreciation\": \"None\",\n      \"commonStockSharesOutstanding\": \"1631000000\"\n    },\n    {\n      \"fiscalDateEnding\": \"2015-12-31\",\n      \"reportedCurrency\": \"USD\",\n      \"totalAssets\": \"53050000000\",\n      \"intangibleAssets\": \"19709000000\",\n      \"earningAssets\": \"None\",\n      \"otherCurrentAssets\": \"1458000000\",\n      \"totalLiabilities\": \"49105000000\",\n      \"totalShareholderEquity\": \"3945000000\",\n      \"deferredLongTermLiabilities\": \"5276000000\",\n      \"otherCurrentLiabilities\": \"3468000000\",\n      \"commonStock\": \"17000000\",\n      \"retainedEarnings\": \"2248000000\",\n      \"otherLiabilities\": \"8890000000\",\n      \"goodwill\": \"13168000000\",\n      \"otherAssets\": \"1149000000\",\n      \"cash\": \"8399000000\",\n      \"totalCurrentLiabilities\": \"10894000000\",\n      \"shortTermDebt\": \"2431000000\",\n      \"currentLongTermDebt\": \"2025000000\",\n      \"otherShareholderEquity\": \"-2561000000\",\n      \"propertyPlantEquipment\": \"2565000000\",\n      \"totalCurrentAssets\": \"16314000000\",\n      \"longTermInvestments\": \"145000000\",\n      \"netTangibleAssets\": \"-28932000000\",\n      \"shortTermInvestments\": \"8000000\",\n      \"netReceivables\": \"4730000000\",\n      \"longTermDebt\": \"29240000000\",\n      \"inventory\": \"1719000000\",\n      \"accountsPayable\": \"8463000000\",\n      \"totalPermanentEquity\": \"0\",\n      \"additionalPaidInCapital\": \"0\",\n      \"commonStockTotalEquity\": \"17000000\",\n      \"preferredStockTotalEquity\": \"0\",\n      \"retainedEarningsTotalEquity\": \"2248000000\",\n      \"treasuryStock\": \"-8839000000\",\n      \"accumulatedAmortization\": \"None\",\n      \"otherNonCurrrentAssets\": \"1149000000\",\n      \"deferredLongTermAssetCharges\": \"None\",\n      \"totalNonCurrentAssets\": \"36736000000\",\n      \"capitalLeaseObligations\": \"None\",\n      \"totalLongTermDebt\": \"29240000000\",\n      \"otherNonCurrentLiabilities\": \"3695000000\",\n      \"totalNonCurrentLiabilities\": \"38211000000\",\n      \"negativeGoodwill\": \"None\",\n      \"warrants\": \"None\",\n      \"preferredStockRedeemable\": \"None\",\n      \"capitalSurplus\": \"13080000000\",\n      \"liabilitiesAndShareholderEquity\": \"53050000000\",\n      \"cashAndShortTermInvestments\": \"8407000000\",\n      \"accumulatedDepreciation\": \"None\",\n      \"commonStockSharesOutstanding\": \"1637000000\"\n    }\n  ],\n  \"monthly_quotes\": {\n    \"2020-10-23\": {\n      \"1. open\": \"88.1700\",\n      \"2. high\": \"88.8000\",\n      \"3. low\": \"82.5600\",\n      \"4. close\": \"84.3400\",\n      \"5. adjusted close\": \"84.3400\",\n      \"6. volume\": \"118406161\",\n      \"7. dividend amount\": \"1.1800\"\n    },\n    \"2020-09-30\": {\n      \"1. open\": \"95.5200\",\n      \"2. high\": \"95.9200\",\n      \"3. low\": \"85.3200\",\n      \"4. close\": \"87.5900\",\n      \"5. adjusted close\": \"86.4054\",\n      \"6. volume\": \"165933331\",\n      \"7. dividend amount\": \"0.0000\"\n    },\n    \"2020-08-31\": {\n      \"1. open\": \"95.1900\",\n      \"2. high\": \"97.4200\",\n      \"3. low\": \"91.7800\",\n      \"4. close\": \"95.7700\",\n      \"5. adjusted close\": \"94.4748\",\n      \"6. volume\": \"135946804\",\n      \"7. dividend amount\": \"0.0000\"\n    },\n    \"2020-07-31\": {\n      \"1. open\": \"98.5000\",\n      \"2. high\": \"101.2800\",\n      \"3. low\": \"93.5500\",\n      \"4. close\": \"94.9100\",\n      \"5. adjusted close\": \"93.6264\",\n      \"6. volume\": \"142070249\",\n      \"7. dividend amount\": \"1.1800\"\n    },\n    \"2020-06-30\": {\n      \"1. open\": \"92.0500\",\n      \"2. high\": \"99.3500\",\n      \"3. low\": \"89.6000\",\n      \"4. close\": \"98.1800\",\n      \"5. adjusted close\": \"95.7099\",\n      \"6. volume\": \"187430663\",\n      \"7. dividend amount\": \"0.0000\"\n    },\n    \"2020-05-29\": {\n      \"1. open\": \"81.9500\",\n      \"2. high\": \"93.6600\",\n      \"3. low\": \"80.5000\",\n      \"4. close\": \"92.6700\",\n      \"5. adjusted close\": \"90.3385\",\n      \"6. volume\": \"272446683\",\n      \"7. dividend amount\": \"0.0000\"\n    },\n    \"2020-04-30\": {\n      \"1. open\": \"72.1200\",\n      \"2. high\": \"85.9700\",\n      \"3. low\": \"71.4300\",\n      \"4. close\": \"82.2000\",\n      \"5. adjusted close\": \"80.1319\",\n      \"6. volume\": \"204672429\",\n      \"7. dividend amount\": \"1.1800\"\n    },\n    \"2020-03-31\": {\n      \"1. open\": \"86.0000\",\n      \"2. high\": \"91.8600\",\n      \"3. low\": \"62.5500\",\n      \"4. close\": \"76.1900\",\n      \"5. adjusted close\": \"73.2211\",\n      \"6. volume\": \"368052041\",\n      \"7. dividend amount\": \"0.0000\"\n    },\n    \"2020-02-28\": {\n      \"1. open\": \"81.3100\",\n      \"2. high\": \"97.8600\",\n      \"3. low\": \"80.9200\",\n      \"4. close\": \"85.7100\",\n      \"5. adjusted close\": \"82.3702\",\n      \"6. volume\": \"204643938\",\n      \"7. dividend amount\": \"0.0000\"\n    },\n    \"2020-01-31\": {\n      \"1. open\": \"89.0800\",\n      \"2. high\": \"90.2900\",\n      \"3. low\": \"80.4100\",\n      \"4. close\": \"81.0200\",\n      \"5. adjusted close\": \"77.8629\",\n      \"6. volume\": \"191549416\",\n      \"7. dividend amount\": \"1.1800\"\n    },\n    \"2019-12-31\": {\n      \"1. open\": \"87.8400\",\n      \"2. high\": \"91.9900\",\n      \"3. low\": \"85.5900\",\n      \"4. close\": \"88.5400\",\n      \"5. adjusted close\": \"83.9665\",\n      \"6. volume\": \"141829998\",\n      \"7. dividend amount\": \"0.0000\"\n    },\n    \"2019-11-29\": {\n      \"1. open\": \"80.0300\",\n      \"2. high\": \"90.4100\",\n      \"3. low\": \"79.1300\",\n      \"4. close\": \"87.7300\",\n      \"5. adjusted close\": \"83.1984\",\n      \"6. volume\": \"162856799\",\n      \"7. dividend amount\": \"0.0000\"\n    },\n    \"2019-10-31\": {\n      \"1. open\": \"75.8900\",\n      \"2. high\": \"79.7900\",\n      \"3. low\": \"71.5700\",\n      \"4. close\": \"79.5500\",\n      \"5. adjusted close\": \"75.4409\",\n      \"6. volume\": \"165129444\",\n      \"7. dividend amount\": \"1.0700\"\n    },\n    \"2019-09-30\": {\n      \"1. open\": \"65.7800\",\n      \"2. high\": \"76.4400\",\n      \"3. low\": \"64.4400\",\n      \"4. close\": \"75.7200\",\n      \"5. adjusted close\": \"70.7802\",\n      \"6. volume\": \"167829742\",\n      \"7. dividend amount\": \"0.0000\"\n    },\n    \"2019-08-30\": {\n      \"1. open\": \"66.9300\",\n      \"2. high\": \"68.4600\",\n      \"3. low\": \"62.6600\",\n      \"4. close\": \"65.7400\",\n      \"5. adjusted close\": \"61.4512\",\n      \"6. volume\": \"190272201\",\n      \"7. dividend amount\": \"0.0000\"\n    },\n    \"2019-07-31\": {\n      \"1. open\": \"73.5000\",\n      \"2. high\": \"74.9700\",\n      \"3. low\": \"65.6300\",\n      \"4. close\": \"66.6200\",\n      \"5. adjusted close\": \"62.2738\",\n      \"6. volume\": \"245440413\",\n      \"7. dividend amount\": \"1.0700\"\n    },\n    \"2019-06-28\": {\n      \"1. open\": \"76.6300\",\n      \"2. high\": \"79.3400\",\n      \"3. low\": \"65.0600\",\n      \"4. close\": \"72.7200\",\n      \"5. adjusted close\": \"66.9565\",\n      \"6. volume\": \"258341384\",\n      \"7. dividend amount\": \"0.0000\"\n    },\n    \"2019-05-31\": {\n      \"1. open\": \"79.6000\",\n      \"2. high\": \"81.7500\",\n      \"3. low\": \"75.6200\",\n      \"4. close\": \"76.7100\",\n      \"5. adjusted close\": \"70.6302\",\n      \"6. volume\": \"101085914\",\n      \"7. dividend amount\": \"0.0000\"\n    },\n    \"2019-04-30\": {\n      \"1. open\": \"80.9800\",\n      \"2. high\": \"84.7300\",\n      \"3. low\": \"76.8100\",\n      \"4. close\": \"79.3900\",\n      \"5. adjusted close\": \"73.0978\",\n      \"6. volume\": \"127086596\",\n      \"7. dividend amount\": \"1.0700\"\n    },\n    \"2019-03-29\": {\n      \"1. open\": \"79.7700\",\n      \"2. high\": \"81.9900\",\n      \"3. low\": \"77.0900\",\n      \"4. close\": \"80.5900\",\n      \"5. adjusted close\": \"73.2327\",\n      \"6. volume\": \"128127680\",\n      \"7. dividend amount\": \"0.0000\"\n    },\n    \"2019-02-28\": {\n      \"1. open\": \"80.2500\",\n      \"2. high\": \"81.7000\",\n      \"3. low\": \"77.5200\",\n      \"4. close\": \"79.2400\",\n      \"5. adjusted close\": \"72.0059\",\n      \"6. volume\": \"108610842\",\n      \"7. dividend amount\": \"0.0000\"\n    },\n    \"2019-01-31\": {\n      \"1. open\": \"91.2400\",\n      \"2. high\": \"92.3000\",\n      \"3. low\": \"75.7700\",\n      \"4. close\": \"80.2900\",\n      \"5. adjusted close\": \"72.9601\",\n      \"6. volume\": \"181094702\",\n      \"7. dividend amount\": \"1.0700\"\n    },\n    \"2018-12-31\": {\n      \"1. open\": \"94.3200\",\n      \"2. high\": \"94.9800\",\n      \"3. low\": \"82.4100\",\n      \"4. close\": \"92.1900\",\n      \"5. adjusted close\": \"82.7293\",\n      \"6. volume\": \"125818347\",\n      \"7. dividend amount\": \"0.0000\"\n    },\n    \"2018-11-30\": {\n      \"1. open\": \"77.7100\",\n      \"2. high\": \"94.2700\",\n      \"3. low\": \"77.5000\",\n      \"4. close\": \"94.2700\",\n      \"5. adjusted close\": \"84.5959\",\n      \"6. volume\": \"162382805\",\n      \"7. dividend amount\": \"0.0000\"\n    },\n    \"2018-10-31\": {\n      \"1. open\": \"94.7400\",\n      \"2. high\": \"96.6000\",\n      \"3. low\": \"77.7400\",\n      \"4. close\": \"77.8500\",\n      \"5. adjusted close\": \"69.8609\",\n      \"6. volume\": \"138287641\",\n      \"7. dividend amount\": \"0.9600\"\n    },\n    \"2018-09-28\": {\n      \"1. open\": \"95.9700\",\n      \"2. high\": \"96.4000\",\n      \"3. low\": \"90.4000\",\n      \"4. close\": \"94.5800\",\n      \"5. adjusted close\": \"83.9850\",\n      \"6. volume\": \"98561247\",\n      \"7. dividend amount\": \"0.0000\"\n    },\n    \"2018-08-31\": {\n      \"1. open\": \"92.2900\",\n      \"2. high\": \"100.2300\",\n      \"3. low\": \"92.2800\",\n      \"4. close\": \"95.9800\",\n      \"5. adjusted close\": \"85.2282\",\n      \"6. volume\": \"111960508\",\n      \"7. dividend amount\": \"0.0000\"\n    },\n    \"2018-07-31\": {\n      \"1. open\": \"92.0600\",\n      \"2. high\": \"98.9500\",\n      \"3. low\": \"86.7600\",\n      \"4. close\": \"92.2300\",\n      \"5. adjusted close\": \"81.8983\",\n      \"6. volume\": \"145194414\",\n      \"7. dividend amount\": \"0.9600\"\n    },\n    \"2018-06-29\": {\n      \"1. open\": \"97.9300\",\n      \"2. high\": \"101.0800\",\n      \"3. low\": \"90.8100\",\n      \"4. close\": \"92.6500\",\n      \"5. adjusted close\": \"81.4534\",\n      \"6. volume\": \"161878296\",\n      \"7. dividend amount\": \"0.0000\"\n    },\n    \"2018-05-31\": {\n      \"1. open\": \"102.1000\",\n      \"2. high\": \"107.2500\",\n      \"3. low\": \"98.5000\",\n      \"4. close\": \"98.9400\",\n      \"5. adjusted close\": \"86.9833\",\n      \"6. volume\": \"243029478\",\n      \"7. dividend amount\": \"0.0000\"\n    },\n    \"2018-04-30\": {\n      \"1. open\": \"94.0000\",\n      \"2. high\": \"99.4200\",\n      \"3. low\": \"88.2200\",\n      \"4. close\": \"96.5500\",\n      \"5. adjusted close\": \"84.8821\",\n      \"6. volume\": \"139836727\",\n      \"7. dividend amount\": \"0.9600\"\n    },\n    \"2018-03-29\": {\n      \"1. open\": \"115.9100\",\n      \"2. high\": \"121.4500\",\n      \"3. low\": \"91.1200\",\n      \"4. close\": \"94.6500\",\n      \"5. adjusted close\": \"82.3535\",\n      \"6. volume\": \"164890242\",\n      \"7. dividend amount\": \"0.0000\"\n    },\n    \"2018-02-28\": {\n      \"1. open\": \"112.2400\",\n      \"2. high\": \"122.0000\",\n      \"3. low\": \"101.0000\",\n      \"4. close\": \"115.8300\",\n      \"5. adjusted close\": \"100.7819\",\n      \"6. volume\": \"136960541\",\n      \"7. dividend amount\": \"0.0000\"\n    },\n    \"2018-01-31\": {\n      \"1. open\": \"97.1400\",\n      \"2. high\": \"125.8600\",\n      \"3. low\": \"96.7500\",\n      \"4. close\": \"112.2200\",\n      \"5. adjusted close\": \"97.6408\",\n      \"6. volume\": \"140712023\",\n      \"7. dividend amount\": \"0.7100\"\n    },\n    \"2017-12-29\": {\n      \"1. open\": \"97.1900\",\n      \"2. high\": \"99.1000\",\n      \"3. low\": \"92.9000\",\n      \"4. close\": \"96.7100\",\n      \"5. adjusted close\": \"83.5483\",\n      \"6. volume\": \"83433841\",\n      \"7. dividend amount\": \"0.0000\"\n    },\n    \"2017-11-30\": {\n      \"1. open\": \"90.7800\",\n      \"2. high\": \"97.5300\",\n      \"3. low\": \"90.1900\",\n      \"4. close\": \"96.9200\",\n      \"5. adjusted close\": \"83.7297\",\n      \"6. volume\": \"99591695\",\n      \"7. dividend amount\": \"0.0000\"\n    },\n    \"2017-10-31\": {\n      \"1. open\": \"89.7400\",\n      \"2. high\": \"98.2600\",\n      \"3. low\": \"85.2400\",\n      \"4. close\": \"90.2500\",\n      \"5. adjusted close\": \"77.9675\",\n      \"6. volume\": \"134875020\",\n      \"7. dividend amount\": \"0.6400\"\n    },\n    \"2017-09-29\": {\n      \"1. open\": \"75.5900\",\n      \"2. high\": \"90.9500\",\n      \"3. low\": \"74.7300\",\n      \"4. close\": \"88.8600\",\n      \"5. adjusted close\": \"76.2329\",\n      \"6. volume\": \"190163376\",\n      \"7. dividend amount\": \"0.0000\"\n    },\n    \"2017-08-31\": {\n      \"1. open\": \"70.0300\",\n      \"2. high\": \"75.4000\",\n      \"3. low\": \"69.4700\",\n      \"4. close\": \"75.3000\",\n      \"5. adjusted close\": \"64.5998\",\n      \"6. volume\": \"97289161\",\n      \"7. dividend amount\": \"0.0000\"\n    },\n    \"2017-07-31\": {\n      \"1. open\": \"72.7600\",\n      \"2. high\": \"75.0400\",\n      \"3. low\": \"69.3800\",\n      \"4. close\": \"69.9100\",\n      \"5. adjusted close\": \"59.9758\",\n      \"6. volume\": \"97993936\",\n      \"7. dividend amount\": \"0.6400\"\n    },\n    \"2017-06-30\": {\n      \"1. open\": \"66.2550\",\n      \"2. high\": \"73.6700\",\n      \"3. low\": \"66.1200\",\n      \"4. close\": \"72.5100\",\n      \"5. adjusted close\": \"61.6573\",\n      \"6. volume\": \"129951733\",\n      \"7. dividend amount\": \"0.0000\"\n    },\n    \"2017-05-31\": {\n      \"1. open\": \"66.0000\",\n      \"2. high\": \"67.4000\",\n      \"3. low\": \"64.6100\",\n      \"4. close\": \"66.0200\",\n      \"5. adjusted close\": \"56.1387\",\n      \"6. volume\": \"122414187\",\n      \"7. dividend amount\": \"0.0000\"\n    },\n    \"2017-04-28\": {\n      \"1. open\": \"65.2400\",\n      \"2. high\": \"67.5000\",\n      \"3. low\": \"63.1153\",\n      \"4. close\": \"65.9400\",\n      \"5. adjusted close\": \"56.0707\",\n      \"6. volume\": \"103181206\",\n      \"7. dividend amount\": \"0.6400\"\n    },\n    \"2017-03-31\": {\n      \"1. open\": \"62.1600\",\n      \"2. high\": \"66.7900\",\n      \"3. low\": \"61.9500\",\n      \"4. close\": \"65.1600\",\n      \"5. adjusted close\": \"54.8603\",\n      \"6. volume\": \"143065659\",\n      \"7. dividend amount\": \"0.0000\"\n    },\n    \"2017-02-28\": {\n      \"1. open\": \"61.0700\",\n      \"2. high\": \"62.4000\",\n      \"3. low\": \"60.0500\",\n      \"4. close\": \"61.8400\",\n      \"5. adjusted close\": \"52.0651\",\n      \"6. volume\": \"126886059\",\n      \"7. dividend amount\": \"0.0000\"\n    },\n    \"2017-01-31\": {\n      \"1. open\": \"62.9200\",\n      \"2. high\": \"64.5000\",\n      \"3. low\": \"59.2700\",\n      \"4. close\": \"61.1100\",\n      \"5. adjusted close\": \"51.4505\",\n      \"6. volume\": \"156332934\",\n      \"7. dividend amount\": \"0.6400\"\n    },\n    \"2016-12-30\": {\n      \"1. open\": \"60.8300\",\n      \"2. high\": \"63.3300\",\n      \"3. low\": \"58.7500\",\n      \"4. close\": \"62.6200\",\n      \"5. adjusted close\": \"52.1757\",\n      \"6. volume\": \"149402248\",\n      \"7. dividend amount\": \"0.0000\"\n    },\n    \"2016-11-30\": {\n      \"1. open\": \"56.0000\",\n      \"2. high\": \"65.0500\",\n      \"3. low\": \"55.6800\",\n      \"4. close\": \"60.8000\",\n      \"5. adjusted close\": \"50.6592\",\n      \"6. volume\": \"195493786\",\n      \"7. dividend amount\": \"0.0000\"\n    },\n    \"2016-10-31\": {\n      \"1. open\": \"63.0200\",\n      \"2. high\": \"63.7500\",\n      \"3. low\": \"55.0623\",\n      \"4. close\": \"55.7800\",\n      \"5. adjusted close\": \"46.4765\",\n      \"6. volume\": \"133963726\",\n      \"7. dividend amount\": \"0.5700\"\n    },\n    \"2016-09-30\": {\n      \"1. open\": \"64.1000\",\n      \"2. high\": \"65.3300\",\n      \"3. low\": \"62.4500\",\n      \"4. close\": \"63.0700\",\n      \"5. adjusted close\": \"52.0658\",\n      \"6. volume\": \"137679158\",\n      \"7. dividend amount\": \"0.0000\"\n    },\n    \"2016-08-31\": {\n      \"1. open\": \"66.2300\",\n      \"2. high\": \"68.1239\",\n      \"3. low\": \"63.5000\",\n      \"4. close\": \"64.1000\",\n      \"5. adjusted close\": \"52.9160\",\n      \"6. volume\": \"150348235\",\n      \"7. dividend amount\": \"0.0000\"\n    },\n    \"2016-07-29\": {\n      \"1. open\": \"61.9800\",\n      \"2. high\": \"66.4000\",\n      \"3. low\": \"61.7700\",\n      \"4. close\": \"66.2300\",\n      \"5. adjusted close\": \"54.6744\",\n      \"6. volume\": \"153738770\",\n      \"7. dividend amount\": \"0.5700\"\n    },\n    \"2016-06-30\": {\n      \"1. open\": \"62.9000\",\n      \"2. high\": \"65.3700\",\n      \"3. low\": \"58.3290\",\n      \"4. close\": \"61.9100\",\n      \"5. adjusted close\": \"50.6623\",\n      \"6. volume\": \"211643211\",\n      \"7. dividend amount\": \"0.0000\"\n    },\n    \"2016-05-31\": {\n      \"1. open\": \"60.7900\",\n      \"2. high\": \"63.8700\",\n      \"3. low\": \"58.5000\",\n      \"4. close\": \"62.9300\",\n      \"5. adjusted close\": \"51.4970\",\n      \"6. volume\": \"206072595\",\n      \"7. dividend amount\": \"0.0000\"\n    },\n    \"2016-04-29\": {\n      \"1. open\": \"56.5800\",\n      \"2. high\": \"62.1000\",\n      \"3. low\": \"56.3600\",\n      \"4. close\": \"61.0000\",\n      \"5. adjusted close\": \"49.9176\",\n      \"6. volume\": \"140372529\",\n      \"7. dividend amount\": \"0.5700\"\n    },\n    \"2016-03-31\": {\n      \"1. open\": \"54.7800\",\n      \"2. high\": \"57.8700\",\n      \"3. low\": \"54.2400\",\n      \"4. close\": \"57.1200\",\n      \"5. adjusted close\": \"46.2957\",\n      \"6. volume\": \"140975748\",\n      \"7. dividend amount\": \"0.0000\"\n    },\n    \"2016-02-29\": {\n      \"1. open\": \"54.1600\",\n      \"2. high\": \"57.3100\",\n      \"3. low\": \"51.6000\",\n      \"4. close\": \"54.6100\",\n      \"5. adjusted close\": \"44.2614\",\n      \"6. volume\": \"183326177\",\n      \"7. dividend amount\": \"0.0000\"\n    },\n    \"2016-01-29\": {\n      \"1. open\": \"58.0600\",\n      \"2. high\": \"59.8100\",\n      \"3. low\": \"50.7100\",\n      \"4. close\": \"54.9000\",\n      \"5. adjusted close\": \"44.4964\",\n      \"6. volume\": \"217448415\",\n      \"7. dividend amount\": \"0.5700\"\n    },\n    \"2015-12-31\": {\n      \"1. open\": \"58.2300\",\n      \"2. high\": \"60.1200\",\n      \"3. low\": \"53.2400\",\n      \"4. close\": \"59.2400\",\n      \"5. adjusted close\": \"47.4851\",\n      \"6. volume\": \"160563343\",\n      \"7. dividend amount\": \"0.0000\"\n    },\n    \"2015-11-30\": {\n      \"1. open\": \"61.6000\",\n      \"2. high\": \"64.3000\",\n      \"3. low\": \"57.9601\",\n      \"4. close\": \"58.1500\",\n      \"5. adjusted close\": \"46.6114\",\n      \"6. volume\": \"157989326\",\n      \"7. dividend amount\": \"0.0000\"\n    },\n    \"2015-10-30\": {\n      \"1. open\": \"54.6800\",\n      \"2. high\": \"60.7300\",\n      \"3. low\": \"45.4500\",\n      \"4. close\": \"59.5500\",\n      \"5. adjusted close\": \"47.7336\",\n      \"6. volume\": \"267028489\",\n      \"7. dividend amount\": \"0.5100\"\n    },\n    \"2015-09-30\": {\n      \"1. open\": \"61.3300\",\n      \"2. high\": \"62.2800\",\n      \"3. low\": \"51.8800\",\n      \"4. close\": \"54.4100\",\n      \"5. adjusted close\": \"43.2040\",\n      \"6. volume\": \"241006805\",\n      \"7. dividend amount\": \"0.0000\"\n    },\n    \"2015-08-31\": {\n      \"1. open\": \"70.1900\",\n      \"2. high\": \"70.7900\",\n      \"3. low\": \"53.8700\",\n      \"4. close\": \"62.4100\",\n      \"5. adjusted close\": \"49.5564\",\n      \"6. volume\": \"221506155\",\n      \"7. dividend amount\": \"0.0000\"\n    },\n    \"2015-07-31\": {\n      \"1. open\": \"67.9000\",\n      \"2. high\": \"71.6000\",\n      \"3. low\": \"67.3200\",\n      \"4. close\": \"70.0100\",\n      \"5. adjusted close\": \"55.5911\",\n      \"6. volume\": \"181337781\",\n      \"7. dividend amount\": \"0.5100\"\n    },\n    \"2015-06-30\": {\n      \"1. open\": \"66.8000\",\n      \"2. high\": \"70.7500\",\n      \"3. low\": \"66.1000\",\n      \"4. close\": \"67.1900\",\n      \"5. adjusted close\": \"52.9636\",\n      \"6. volume\": \"211499136\",\n      \"7. dividend amount\": \"0.0000\"\n    },\n    \"2015-05-29\": {\n      \"1. open\": \"65.0900\",\n      \"2. high\": \"67.9900\",\n      \"3. low\": \"63.4000\",\n      \"4. close\": \"66.5900\",\n      \"5. adjusted close\": \"52.4907\",\n      \"6. volume\": \"219974354\",\n      \"7. dividend amount\": \"0.0000\"\n    },\n    \"2015-04-30\": {\n      \"1. open\": \"58.4800\",\n      \"2. high\": \"66.6600\",\n      \"3. low\": \"56.3300\",\n      \"4. close\": \"64.6600\",\n      \"5. adjusted close\": \"50.9693\",\n      \"6. volume\": \"261299822\",\n      \"7. dividend amount\": \"0.5100\"\n    },\n    \"2015-03-31\": {\n      \"1. open\": \"60.3000\",\n      \"2. high\": \"61.7300\",\n      \"3. low\": \"54.7800\",\n      \"4. close\": \"58.5400\",\n      \"5. adjusted close\": \"45.7638\",\n      \"6. volume\": \"293327180\",\n      \"7. dividend amount\": \"0.0000\"\n    },\n    \"2015-02-27\": {\n      \"1. open\": \"61.4900\",\n      \"2. high\": \"61.9000\",\n      \"3. low\": \"55.1800\",\n      \"4. close\": \"60.5000\",\n      \"5. adjusted close\": \"47.2960\",\n      \"6. volume\": \"258894328\",\n      \"7. dividend amount\": \"0.0000\"\n    },\n    \"2015-01-30\": {\n      \"1. open\": \"65.6200\",\n      \"2. high\": \"68.2900\",\n      \"3. low\": \"60.1200\",\n      \"4. close\": \"60.3500\",\n      \"5. adjusted close\": \"47.1787\",\n      \"6. volume\": \"167896336\",\n      \"7. dividend amount\": \"0.4900\"\n    },\n    \"2014-12-31\": {\n      \"1. open\": \"69.0800\",\n      \"2. high\": \"70.7600\",\n      \"3. low\": \"64.0200\",\n      \"4. close\": \"65.4400\",\n      \"5. adjusted close\": \"50.7654\",\n      \"6. volume\": \"157658512\",\n      \"7. dividend amount\": \"0.0000\"\n    },\n    \"2014-11-28\": {\n      \"1. open\": \"63.6600\",\n      \"2. high\": \"69.4800\",\n      \"3. low\": \"61.3100\",\n      \"4. close\": \"69.2000\",\n      \"5. adjusted close\": \"53.6823\",\n      \"6. volume\": \"121409781\",\n      \"7. dividend amount\": \"0.0000\"\n    },\n    \"2014-10-31\": {\n      \"1. open\": \"57.9300\",\n      \"2. high\": \"63.9900\",\n      \"3. low\": \"52.0600\",\n      \"4. close\": \"63.4600\",\n      \"5. adjusted close\": \"49.2294\",\n      \"6. volume\": \"466041542\",\n      \"7. dividend amount\": \"0.4200\"\n    },\n    \"2014-09-30\": {\n      \"1. open\": \"55.4300\",\n      \"2. high\": \"60.0200\",\n      \"3. low\": \"54.8300\",\n      \"4. close\": \"57.7600\",\n      \"5. adjusted close\": \"44.4679\",\n      \"6. volume\": \"240252876\",\n      \"7. dividend amount\": \"0.0000\"\n    },\n    \"2014-08-29\": {\n      \"1. open\": \"52.0300\",\n      \"2. high\": \"55.9400\",\n      \"3. low\": \"51.3700\",\n      \"4. close\": \"55.2800\",\n      \"5. adjusted close\": \"42.5586\",\n      \"6. volume\": \"213154600\",\n      \"7. dividend amount\": \"0.0000\"\n    },\n    \"2014-07-31\": {\n      \"1. open\": \"56.4200\",\n      \"2. high\": \"58.2700\",\n      \"3. low\": \"51.8200\",\n      \"4. close\": \"52.3400\",\n      \"5. adjusted close\": \"40.2952\",\n      \"6. volume\": \"325939300\",\n      \"7. dividend amount\": \"0.4200\"\n    },\n    \"2014-06-30\": {\n      \"1. open\": \"54.4300\",\n      \"2. high\": \"56.9000\",\n      \"3. low\": \"52.2900\",\n      \"4. close\": \"56.4400\",\n      \"5. adjusted close\": \"43.1221\",\n      \"6. volume\": \"122883700\",\n      \"7. dividend amount\": \"0.0000\"\n    },\n    \"2014-05-30\": {\n      \"1. open\": \"51.8900\",\n      \"2. high\": \"54.6100\",\n      \"3. low\": \"50.3100\",\n      \"4. close\": \"54.3300\",\n      \"5. adjusted close\": \"41.5100\",\n      \"6. volume\": \"92470200\",\n      \"7. dividend amount\": \"0.0000\"\n    },\n    \"2014-04-30\": {\n      \"1. open\": \"51.6200\",\n      \"2. high\": \"54.4400\",\n      \"3. low\": \"45.5000\",\n      \"4. close\": \"52.0800\",\n      \"5. adjusted close\": \"39.7909\",\n      \"6. volume\": \"154855500\",\n      \"7. dividend amount\": \"0.4200\"\n    },\n    \"2014-03-31\": {\n      \"1. open\": \"50.3400\",\n      \"2. high\": \"54.7300\",\n      \"3. low\": \"49.7900\",\n      \"4. close\": \"51.4000\",\n      \"5. adjusted close\": \"38.9195\",\n      \"6. volume\": \"122225700\",\n      \"7. dividend amount\": \"0.0000\"\n    },\n    \"2014-02-28\": {\n      \"1. open\": \"49.4000\",\n      \"2. high\": \"52.1100\",\n      \"3. low\": \"46.9500\",\n      \"4. close\": \"50.9100\",\n      \"5. adjusted close\": \"38.5485\",\n      \"6. volume\": \"120695900\",\n      \"7. dividend amount\": \"0.0000\"\n    },\n    \"2014-01-31\": {\n      \"1. open\": \"52.1200\",\n      \"2. high\": \"52.7000\",\n      \"3. low\": \"46.4200\",\n      \"4. close\": \"49.2300\",\n      \"5. adjusted close\": \"37.2764\",\n      \"6. volume\": \"163880000\",\n      \"7. dividend amount\": \"0.4000\"\n    },\n    \"2013-12-31\": {\n      \"1. open\": \"48.4900\",\n      \"2. high\": \"54.7800\",\n      \"3. low\": \"48.0200\",\n      \"4. close\": \"52.8100\",\n      \"5. adjusted close\": \"39.6687\",\n      \"6. volume\": \"142934200\",\n      \"7. dividend amount\": \"0.0000\"\n    },\n    \"2013-11-29\": {\n      \"1. open\": \"48.6400\",\n      \"2. high\": \"49.9600\",\n      \"3. low\": \"46.8300\",\n      \"4. close\": \"48.4500\",\n      \"5. adjusted close\": \"36.3937\",\n      \"6. volume\": \"88611100\",\n      \"7. dividend amount\": \"0.0000\"\n    },\n    \"2013-10-31\": {\n      \"1. open\": \"44.8100\",\n      \"2. high\": \"50.2000\",\n      \"3. low\": \"44.3200\",\n      \"4. close\": \"48.4500\",\n      \"5. adjusted close\": \"36.3937\",\n      \"6. volume\": \"117974800\",\n      \"7. dividend amount\": \"0.4000\"\n    },\n    \"2013-09-30\": {\n      \"1. open\": \"43.0000\",\n      \"2. high\": \"48.4200\",\n      \"3. low\": \"42.3100\",\n      \"4. close\": \"44.7300\",\n      \"5. adjusted close\": \"33.3077\",\n      \"6. volume\": \"95067300\",\n      \"7. dividend amount\": \"0.0000\"\n    },\n    \"2013-08-30\": {\n      \"1. open\": \"45.1400\",\n      \"2. high\": \"45.9000\",\n      \"3. low\": \"42.2500\",\n      \"4. close\": \"42.6100\",\n      \"5. adjusted close\": \"31.7291\",\n      \"6. volume\": \"78325100\",\n      \"7. dividend amount\": \"0.0000\"\n    },\n    \"2013-07-31\": {\n      \"1. open\": \"41.4000\",\n      \"2. high\": \"45.9100\",\n      \"3. low\": \"41.0700\",\n      \"4. close\": \"45.4800\",\n      \"5. adjusted close\": \"33.8662\",\n      \"6. volume\": \"85701800\",\n      \"7. dividend amount\": \"0.4000\"\n    },\n    \"2013-06-28\": {\n      \"1. open\": \"42.8800\",\n      \"2. high\": \"44.4700\",\n      \"3. low\": \"40.1000\",\n      \"4. close\": \"41.3400\",\n      \"5. adjusted close\": \"30.5047\",\n      \"6. volume\": \"107872600\",\n      \"7. dividend amount\": \"0.0000\"\n    },\n    \"2013-05-31\": {\n      \"1. open\": \"45.7400\",\n      \"2. high\": \"48.0000\",\n      \"3. low\": \"42.6825\",\n      \"4. close\": \"42.6900\",\n      \"5. adjusted close\": \"31.5008\",\n      \"6. volume\": \"119566400\",\n      \"7. dividend amount\": \"0.0000\"\n    },\n    \"2013-04-30\": {\n      \"1. open\": \"39.9600\",\n      \"2. high\": \"46.3200\",\n      \"3. low\": \"39.9600\",\n      \"4. close\": \"46.0500\",\n      \"5. adjusted close\": \"33.9802\",\n      \"6. volume\": \"176083000\",\n      \"7. dividend amount\": \"0.4000\"\n    },\n    \"2013-03-28\": {\n      \"1. open\": \"36.8000\",\n      \"2. high\": \"40.8000\",\n      \"3. low\": \"36.5510\",\n      \"4. close\": \"40.7800\",\n      \"5. adjusted close\": \"29.8154\",\n      \"6. volume\": \"122236200\",\n      \"7. dividend amount\": \"0.0000\"\n    },\n    \"2013-02-28\": {\n      \"1. open\": \"36.8400\",\n      \"2. high\": \"39.1300\",\n      \"3. low\": \"35.0100\",\n      \"4. close\": \"36.9200\",\n      \"5. adjusted close\": \"26.9932\",\n      \"6. volume\": \"151690500\",\n      \"7. dividend amount\": \"0.0000\"\n    }\n  }\n}\n"
     ]
    }
   ],
   "source": [
    "# GUI for jupyter: https://docs.bamboolib.8080labs.com/\n",
    "\n",
    "import pandas\n",
    "import numpy as np\n",
    "import requests\n",
    "from config import AV_API_KEY\n",
    "\n",
    "# STOCK_SYMBOL = 'INTC'\n",
    "STOCK_SYMBOL = 'ABBV'\n",
    "AV_URL = \"https://www.alphavantage.co/query\" # Alpha Vantage API call: \n",
    "\n",
    "\n",
    "def get_from_av(sym, query_type):\n",
    "    return requests.get(AV_URL, params={\n",
    "        \"function\": query_type,\n",
    "        \"symbol\": sym,\n",
    "        \"apikey\": AV_API_KEY\n",
    "    }).json()\n",
    "\n",
    "def get_stock_data(sym):\n",
    "    '''retrieve data from Alpha Vantage: OVERVIEW, BALANCE_SHEET, TIME_SERIES_MONTHLY_ADJUSTED'''\n",
    "    data = {}\n",
    "    query_types = []\n",
    "    data['overview'] = get_from_av(sym, 'OVERVIEW')\n",
    "    data['income'] = get_from_av(sym, 'INCOME_STATEMENT')['annualReports']\n",
    "    data['balance'] = get_from_av(sym, 'BALANCE_SHEET')['annualReports']\n",
    "    data['monthly_quotes'] = get_from_av(sym, 'TIME_SERIES_MONTHLY_ADJUSTED')['Monthly Adjusted Time Series']\n",
    "    return data\n",
    "\n",
    "data = None\n",
    "data = get_stock_data(STOCK_SYMBOL)\n",
    "\n",
    "import json\n",
    "# print(json.dumps(data, indent=2, sort_keys=True))\n",
    "print(json.dumps(data, indent=2))\n"
   ]
  },
  {
   "cell_type": "code",
   "execution_count": 44,
   "metadata": {
    "tags": []
   },
   "outputs": [
    {
     "output_type": "execute_result",
     "data": {
      "text/plain": [
       "      accountsPayable  accumulatedAmortization  accumulatedDepreciation  \\\n",
       "2019     1.183200e+10                      0.0                      0.0   \n",
       "2018     1.193100e+10                      0.0                      0.0   \n",
       "2017     1.022600e+10                      0.0                      0.0   \n",
       "2016     9.379000e+09                      0.0                      0.0   \n",
       "2015     8.463000e+09                      0.0                      0.0   \n",
       "\n",
       "     additionalPaidInCapital  average_price  capitalLeaseObligations  \\\n",
       "2019                       0          77.74                      0.0   \n",
       "2018                       0          96.49                      0.0   \n",
       "2017                       0          75.88                      0.0   \n",
       "2016                       0          60.42                      0.0   \n",
       "2015                       0          61.80                      0.0   \n",
       "\n",
       "      capitalSurplus          cash  cashAndShortTermInvestments  commonStock  \\\n",
       "2019    1.519300e+10  3.992400e+10                 3.992400e+10   18000000.0   \n",
       "2018    1.475600e+10  7.289000e+09                 8.061000e+09   18000000.0   \n",
       "2017    1.427000e+10  9.303000e+09                 9.789000e+09   18000000.0   \n",
       "2016    1.367800e+10  5.100000e+09                 6.423000e+09   18000000.0   \n",
       "2015    1.308000e+10  8.399000e+09                 8.407000e+09   17000000.0   \n",
       "\n",
       "      ...  totalLongTermDebt  totalNonCurrentAssets  \\\n",
       "2019  ...       6.297500e+10           3.959600e+10   \n",
       "2018  ...       3.500200e+10           4.240700e+10   \n",
       "2017  ...       3.095300e+10           4.956300e+10   \n",
       "2016  ...       3.644000e+10           4.991200e+10   \n",
       "2015  ...       2.924000e+10           3.673600e+10   \n",
       "\n",
       "      totalNonCurrentLiabilities  totalOperatingExpense  \\\n",
       "2019                8.170200e+10           1.284400e+10   \n",
       "2018                5.055900e+10           1.865200e+10   \n",
       "2017                4.904800e+10           1.158400e+10   \n",
       "2016                5.168200e+10           1.042100e+10   \n",
       "2015                3.821100e+10           1.082200e+10   \n",
       "\n",
       "      totalOtherIncomeExpense  totalPermanentEquity  totalRevenue  \\\n",
       "2019            -3.048000e+09                     0  3.326600e+10   \n",
       "2018            -4.200000e+07                     0  3.275300e+10   \n",
       "2017            -8.610000e+08                     0  2.821600e+10   \n",
       "2016            -5.350000e+08                     0  2.563800e+10   \n",
       "2015            -2.211000e+09                     0  2.285900e+10   \n",
       "\n",
       "      totalShareholderEquity  treasuryStock  warrants  \n",
       "2019           -8.172000e+09  -2.450400e+10       0.0  \n",
       "2018           -8.446000e+09  -2.410800e+10       0.0  \n",
       "2017            5.097000e+09  -1.192300e+10       0.0  \n",
       "2016            4.636000e+09  -1.085200e+10       0.0  \n",
       "2015            3.945000e+09  -8.839000e+09       0.0  \n",
       "\n",
       "[5 rows x 81 columns]"
      ],
      "text/html": "<div>\n<style scoped>\n    .dataframe tbody tr th:only-of-type {\n        vertical-align: middle;\n    }\n\n    .dataframe tbody tr th {\n        vertical-align: top;\n    }\n\n    .dataframe thead th {\n        text-align: right;\n    }\n</style>\n<table border=\"1\" class=\"dataframe\">\n  <thead>\n    <tr style=\"text-align: right;\">\n      <th></th>\n      <th>accountsPayable</th>\n      <th>accumulatedAmortization</th>\n      <th>accumulatedDepreciation</th>\n      <th>additionalPaidInCapital</th>\n      <th>average_price</th>\n      <th>capitalLeaseObligations</th>\n      <th>capitalSurplus</th>\n      <th>cash</th>\n      <th>cashAndShortTermInvestments</th>\n      <th>commonStock</th>\n      <th>...</th>\n      <th>totalLongTermDebt</th>\n      <th>totalNonCurrentAssets</th>\n      <th>totalNonCurrentLiabilities</th>\n      <th>totalOperatingExpense</th>\n      <th>totalOtherIncomeExpense</th>\n      <th>totalPermanentEquity</th>\n      <th>totalRevenue</th>\n      <th>totalShareholderEquity</th>\n      <th>treasuryStock</th>\n      <th>warrants</th>\n    </tr>\n  </thead>\n  <tbody>\n    <tr>\n      <th>2019</th>\n      <td>1.183200e+10</td>\n      <td>0.0</td>\n      <td>0.0</td>\n      <td>0</td>\n      <td>77.74</td>\n      <td>0.0</td>\n      <td>1.519300e+10</td>\n      <td>3.992400e+10</td>\n      <td>3.992400e+10</td>\n      <td>18000000.0</td>\n      <td>...</td>\n      <td>6.297500e+10</td>\n      <td>3.959600e+10</td>\n      <td>8.170200e+10</td>\n      <td>1.284400e+10</td>\n      <td>-3.048000e+09</td>\n      <td>0</td>\n      <td>3.326600e+10</td>\n      <td>-8.172000e+09</td>\n      <td>-2.450400e+10</td>\n      <td>0.0</td>\n    </tr>\n    <tr>\n      <th>2018</th>\n      <td>1.193100e+10</td>\n      <td>0.0</td>\n      <td>0.0</td>\n      <td>0</td>\n      <td>96.49</td>\n      <td>0.0</td>\n      <td>1.475600e+10</td>\n      <td>7.289000e+09</td>\n      <td>8.061000e+09</td>\n      <td>18000000.0</td>\n      <td>...</td>\n      <td>3.500200e+10</td>\n      <td>4.240700e+10</td>\n      <td>5.055900e+10</td>\n      <td>1.865200e+10</td>\n      <td>-4.200000e+07</td>\n      <td>0</td>\n      <td>3.275300e+10</td>\n      <td>-8.446000e+09</td>\n      <td>-2.410800e+10</td>\n      <td>0.0</td>\n    </tr>\n    <tr>\n      <th>2017</th>\n      <td>1.022600e+10</td>\n      <td>0.0</td>\n      <td>0.0</td>\n      <td>0</td>\n      <td>75.88</td>\n      <td>0.0</td>\n      <td>1.427000e+10</td>\n      <td>9.303000e+09</td>\n      <td>9.789000e+09</td>\n      <td>18000000.0</td>\n      <td>...</td>\n      <td>3.095300e+10</td>\n      <td>4.956300e+10</td>\n      <td>4.904800e+10</td>\n      <td>1.158400e+10</td>\n      <td>-8.610000e+08</td>\n      <td>0</td>\n      <td>2.821600e+10</td>\n      <td>5.097000e+09</td>\n      <td>-1.192300e+10</td>\n      <td>0.0</td>\n    </tr>\n    <tr>\n      <th>2016</th>\n      <td>9.379000e+09</td>\n      <td>0.0</td>\n      <td>0.0</td>\n      <td>0</td>\n      <td>60.42</td>\n      <td>0.0</td>\n      <td>1.367800e+10</td>\n      <td>5.100000e+09</td>\n      <td>6.423000e+09</td>\n      <td>18000000.0</td>\n      <td>...</td>\n      <td>3.644000e+10</td>\n      <td>4.991200e+10</td>\n      <td>5.168200e+10</td>\n      <td>1.042100e+10</td>\n      <td>-5.350000e+08</td>\n      <td>0</td>\n      <td>2.563800e+10</td>\n      <td>4.636000e+09</td>\n      <td>-1.085200e+10</td>\n      <td>0.0</td>\n    </tr>\n    <tr>\n      <th>2015</th>\n      <td>8.463000e+09</td>\n      <td>0.0</td>\n      <td>0.0</td>\n      <td>0</td>\n      <td>61.80</td>\n      <td>0.0</td>\n      <td>1.308000e+10</td>\n      <td>8.399000e+09</td>\n      <td>8.407000e+09</td>\n      <td>17000000.0</td>\n      <td>...</td>\n      <td>2.924000e+10</td>\n      <td>3.673600e+10</td>\n      <td>3.821100e+10</td>\n      <td>1.082200e+10</td>\n      <td>-2.211000e+09</td>\n      <td>0</td>\n      <td>2.285900e+10</td>\n      <td>3.945000e+09</td>\n      <td>-8.839000e+09</td>\n      <td>0.0</td>\n    </tr>\n  </tbody>\n</table>\n<p>5 rows × 81 columns</p>\n</div>"
     },
     "metadata": {},
     "execution_count": 44
    }
   ],
   "source": [
    "def format_monthly_quote(quote):\n",
    "    # Removes the prefix number and converts values to int\n",
    "    # \"1. open\": \"59.9100\"\n",
    "    formatted = {}\n",
    "    for key in quote:\n",
    "        cleaned_key = key.split(\". \")[1]              # Remove the \"1. \"\n",
    "        cleaned_key = cleaned_key.replace(\" \", \"_\") # Replace spaces with \"_\"\n",
    "        formatted[cleaned_key] = float(quote[key])    # Convert values to numbers\n",
    "    return formatted\n",
    "\n",
    "def restructure_data(data):\n",
    "    '''\n",
    "    Flattens the JSON structure\n",
    "    1. Reduces monthly quotes to last month of each year,\n",
    "    2. Combines balance sheets, income statements, and monthly quotes into a single dictionary \n",
    "       {'2019-12-31': {balance_sheet, income_statement, monthly_quote}, ...}\n",
    "    '''\n",
    "    final_data = {}\n",
    "\n",
    "    # Gathers the monthly stock prices (Groups by year YYYY)\n",
    "    monthly_close_prices = {}\n",
    "    yearly_dividend_amounts = {}\n",
    "    for date in data['monthly_quotes']:\n",
    "        current_year = date.split(\"-\")[0]\n",
    "        cleaned_quote = format_monthly_quote(data['monthly_quotes'][date])\n",
    "        if current_year not in monthly_close_prices:\n",
    "            monthly_close_prices[current_year] = []\n",
    "            yearly_dividend_amounts[current_year] = []\n",
    "        monthly_close_prices[current_year].append(cleaned_quote['close'])\n",
    "\n",
    "        if cleaned_quote['dividend_amount'] > 0:\n",
    "            yearly_dividend_amounts[current_year].append(cleaned_quote['dividend_amount'])\n",
    "    \n",
    "    # Calculate the average stock price for each year\n",
    "    for year in monthly_close_prices.keys():\n",
    "        year_avg_price = round(sum(monthly_close_prices[year]) / len(monthly_close_prices[year]), 2)\n",
    "        # print(\"Average price for \", year, \": \", year_avg_price)\n",
    "        final_data[year] = {\"average_price\": year_avg_price}\n",
    "\n",
    "    # Calculate each year's dividend amount and yield\n",
    "    for year in yearly_dividend_amounts.keys():\n",
    "        year_dividend_paid = sum(yearly_dividend_amounts[year])\n",
    "        year_dividend_yield = round(year_dividend_paid / final_data[year]['average_price'], 4)\n",
    "        final_data[year][\"dividend_amount\"] = year_dividend_paid\n",
    "        final_data[year][\"dividend_yield\"] = year_dividend_yield\n",
    "\n",
    "    # Add the balance sheet and income statement for each year to final\n",
    "    for balance, income in list(zip(data['balance'], data['income'])):\n",
    "        if balance['fiscalDateEnding'] == income['fiscalDateEnding']:\n",
    "            current_year = balance['fiscalDateEnding'].split(\"-\")[0]\n",
    "            financials = {**balance, **income}\n",
    "            final_data[current_year].update(financials)\n",
    "\n",
    "\n",
    "    return final_data\n",
    "\n",
    "overview_data = data['overview']\n",
    "overview_data['fair_values'] = {} # NOTE: HISTORICAL FAIR VALUES WILL BE STORED HERE\n",
    "historical_data = restructure_data(data)\n",
    "\n",
    "# Load data into pandas dataframe \n",
    "df = pandas.read_json(json.dumps(historical_data), orient=\"index\", )\n",
    "\n",
    "# Drop Years that are missing data \n",
    "# Balance sheets and Income Statements only give 5 yrs data compared to Monthly Quote data\n",
    "df = df.dropna(axis=0)\n",
    "df = df.replace([\"None\"], float(0)) #replace all 'None' strings with zeros (0)\n",
    "df"
   ]
  },
  {
   "cell_type": "code",
   "execution_count": 45,
   "metadata": {},
   "outputs": [
    {
     "output_type": "execute_result",
     "data": {
      "text/plain": [
       "2019    5.31\n",
       "2018    3.68\n",
       "2017    3.31\n",
       "2016    3.65\n",
       "2015    3.14\n",
       "Name: eps, dtype: float64"
      ]
     },
     "metadata": {},
     "execution_count": 45
    }
   ],
   "source": [
    "# Calculate EPS for each year\n",
    "# TODO: Need to account for 'None' in preferredStockTotalEquity\n",
    "# df[\"eps\"] = round( (df['netIncome'] - df['preferredStockTotalEquity']) / float(df['commonStockSharesOutstanding']), 2)\n",
    "df[\"eps\"] = round(df['netIncome'] / df['commonStockSharesOutstanding'], 2)\n",
    "df[\"eps\"]"
   ]
  },
  {
   "cell_type": "code",
   "execution_count": 46,
   "metadata": {
    "tags": []
   },
   "outputs": [
    {
     "output_type": "stream",
     "name": "stdout",
     "text": [
      "Average Historical PE Ratio:  20.0\n\n----- Not sure about these --------\nCurrent EPS:  4.523\nFair Value from Historic PE * Current EPS:  90.46\nCurrent PE * EPS =  83.44301779999999\nForward PE * EPS =  31.4533943\n-----------------------------------\n\nStock Price from historical PE Ratio:  76.39999999999999\n"
     ]
    }
   ],
   "source": [
    "# Calculate each yr's PE Ratio and the historical average\n",
    "df['peRatio'] = round(df['average_price'] / df['eps'], 2)\n",
    "pe_ratios = list(pandas.array(df['peRatio']))\n",
    "overview_data['historical_peratio'] = round(sum(pe_ratios) / len(pe_ratios), 2)\n",
    "print(\"Average Historical PE Ratio: \", overview_data['historical_peratio'])\n",
    "\n",
    "# Calculate average historical price from historical_peratio\n",
    "eps_array = list(pandas.array(df['eps']))\n",
    "pe_ratio_fair_value = overview_data['historical_peratio'] * round(sum(eps_array) / len(eps_array), 2)\n",
    "overview_data['fair_values']['pe_ratio'] = pe_ratio_fair_value\n",
    "\n",
    "print(\"\\n----- Not sure about these --------\")\n",
    "print(\"Current EPS: \", overview_data['EPS'])\n",
    "print(\"Fair Value from Historic PE * Current EPS: \", overview_data['historical_peratio'] * float(overview_data['EPS']))\n",
    "print(\"Current PE * EPS = \", float(overview_data['PERatio']) * float(overview_data['EPS']))\n",
    "print(\"Forward PE * EPS = \", float(overview_data['ForwardPE']) * float(overview_data['EPS']))\n",
    "print(\"-----------------------------------\")\n",
    "print(\"\\nStock Price from historical PE Ratio: \", overview_data['fair_values']['pe_ratio'])"
   ]
  },
  {
   "cell_type": "code",
   "execution_count": 47,
   "metadata": {
    "tags": []
   },
   "outputs": [
    {
     "output_type": "stream",
     "name": "stdout",
     "text": [
      "\nStock Price from historical Dividend Yield:  120.16293279022402\n"
     ]
    }
   ],
   "source": [
    "# Calculate Average Historical Yield\n",
    "# Price = Current annual dividend / yield I want to buy at (Historical Average is this case)\n",
    "overview_data['fair_values']['dividend_yield'] = float(overview_data['DividendPerShare']) /  df['dividend_yield'].mean()\n",
    "print(\"\\nStock Price from historical Dividend Yield: \", overview_data['fair_values']['dividend_yield'] )"
   ]
  },
  {
   "cell_type": "code",
   "execution_count": 48,
   "metadata": {},
   "outputs": [],
   "source": [
    "# 2nd Calculation based on Dividend Yield\n",
    "# Fair Value = (Current Price * Current Yield) / Average Historical Yield\n",
    "# \n",
    "# TODO - Need to isolate the latest closing price from the time series \n",
    "#        (It's a dict so can't pop the 1st/last value :( )\n",
    "\n",
    "# fv_from_div_yld ="
   ]
  },
  {
   "cell_type": "code",
   "execution_count": 75,
   "metadata": {},
   "outputs": [
    {
     "output_type": "stream",
     "name": "stdout",
     "text": [
      "2019    0.0551\nName: dividend_yield, dtype: float64\nCurrent Yield:  0.056\n5yr Average Yield:  0.040925\n1yr Average Yield:  0.0551\n5yr PAAY:  36.84\n1yr PAAY:  1.63\n"
     ]
    }
   ],
   "source": [
    "# PAAY - Percent Above Average Yield (+ undervalued, - overvalued)\n",
    "# PAAY = ((Current Yield - Average Yield) / Average Yield) * 100\n",
    "print(df['dividend_yield'][:1])\n",
    "print(\"Current Yield: \", overview_data['DividendYield'])\n",
    "print(\"5yr Average Yield: \", df['dividend_yield'][:4].mean())\n",
    "paay_long_term = ( float(overview_data['DividendYield']) - df['dividend_yield'][:4].mean() ) / df['dividend_yield'][:4].mean() * 100\n",
    "overview_data[\"5yr_paay\"] = round(paay_long_term, 2)\n",
    "\n",
    "print(\"1yr Average Yield: \", df['dividend_yield'][:1].mean())\n",
    "paay_short_term = ( float(overview_data['DividendYield']) - df['dividend_yield'][:1].mean() ) / df['dividend_yield'][:1].mean() * 100\n",
    "overview_data[\"1yr_paay\"] = round(paay_short_term, 2)\n",
    "print(\"5yr PAAY: \", overview_data['5yr_paay'])\n",
    "print(\"1yr PAAY: \", overview_data['1yr_paay'])"
   ]
  },
  {
   "cell_type": "code",
   "execution_count": 49,
   "metadata": {
    "tags": []
   },
   "outputs": [
    {
     "output_type": "stream",
     "name": "stdout",
     "text": [
      "\nStock Price from historical Equity Value (from enterprise value):  74.466  # Seems too low(!?)\n"
     ]
    }
   ],
   "source": [
    " \n",
    "# Equity value = Market Capitialization = stock price * outstanding shares\n",
    "# Enterprise value = [Equity value AKA Market Cap] + Debt + preferred stock - cash and equivalents\n",
    "#                    \n",
    "# 2 ways to calculate Equity value:\n",
    "#   Equity value = stock price * outstanding shares\n",
    "#      OR\n",
    "#   Equity value = Enterprise value - Debt - preferred stock + cash and equivalents\n",
    "df['market_cap'] = df['average_price'] * df['commonStockSharesOutstanding']\n",
    "df['enterprise_value'] = df['market_cap'] + df['totalLiabilities'] + pandas.to_numeric(df['preferredStockTotalEquity']) - df['cashAndShortTermInvestments']\n",
    "# df['equity_value'] = df['market_cap'] + pandas.to_numeric(df['preferredStockTotalEquity']) + df['cashAndShortTermInvestments']\n",
    "df['equity_value'] = df['enterprise_value'] - df['totalLiabilities'] - pandas.to_numeric(df['preferredStockTotalEquity']) + df['cashAndShortTermInvestments']\n",
    "\n",
    "\n",
    "# Historical price = Equity Value / Outstanding Shares\n",
    "overview_data['fair_values']['equity_value'] = (df['equity_value'] / df['commonStockSharesOutstanding']).mean()\n",
    "print(\"\\nStock Price from historical Equity Value (from enterprise value): \", overview_data['fair_values']['equity_value'], \" # Seems too low(!?)\")"
   ]
  },
  {
   "cell_type": "code",
   "execution_count": 50,
   "metadata": {
    "tags": []
   },
   "outputs": [
    {
     "output_type": "stream",
     "name": "stdout",
     "text": [
      "Historical EBIT:  5.212884445006961\nEBIT / Outstanding shares:  5.2293557300065086\nEBIT/share * Current PE:  96.47429212059807\n\n\nFair Values:  {'pe_ratio': 76.39999999999999, 'dividend_yield': 120.16293279022402, 'equity_value': 74.466}\n"
     ]
    }
   ],
   "source": [
    "# Calculate Historical Fair Value (11 years) from:\n",
    "# PE Ratio (my addition) - DONE\n",
    "# 5-yr average yield - DONE\n",
    "# 12-yr median yield - DONE(skip for now. TODO: don't drop NaN rows )\n",
    "# Earnings ---> Earnings what? per share??\n",
    "# Owner earnings\n",
    "# Operating cash flow\n",
    "# Free cash flow\n",
    "# EBITDA - Can't find formula for this\n",
    "# EBIT - Can't find formula for this\n",
    "## Then average these all together\n",
    "# TODO TODO TODO was trying to use EBIT as substitute for Market Value (then dividing that by Outstanding Shares)\n",
    "print(\"Historical EBIT: \", df['ebit'].mean()/ df['commonStockSharesOutstanding'].mean())\n",
    "print(\"EBIT / Outstanding shares: \", (df['ebit'] / df['commonStockSharesOutstanding']).mean() )\n",
    "print(\"EBIT/share * Current PE: \", (df['ebit'] / df['commonStockSharesOutstanding']).mean() * float(overview_data['PERatio']) )\n",
    "\n",
    "print(\"\\n\\nFair Values: \", overview_data['fair_values'])\n",
    "\n",
    "\n",
    "# # Calculate share price from Operating Cash Flow\n",
    "# # operating_cash_flow = net_income + depreciation - accounts_receivable - accounts_payable\n",
    "# df['operating_cash_flow'] = df['netIncome'] + df['accumulatedDepreciation'] - (df['accountsPayable'] + df['netReceivables'])\n",
    "# print(df['accumulatedDepreciation'])\n",
    "# print(df['operating_cash_flow']) # TODO WHY IS 2017 -10061999999 ????\n",
    "\n",
    "\n",
    "# # calculate equity value from EV/EBITDA\n",
    "# # https://www.wallstreetoasis.com/forums/evebidta-to-target-price#:~:text=With%20the%20EV%2FEBITDA%20multiple,the%20equity%20value%20per%20share.\n",
    "# enterprise_value = float(data['overview']['EVToEBITDA']) * float(data['overview']['EBITDA'])\n",
    "# total_debt = float(data['annual_reports'][0]['shortTermDebt']) + float(data['annual_reports'][0]['longTermDebt'])\n",
    "# equity_value = float(enterprise_value) - float(total_debt)\n",
    "# share_price = round(float(equity_value) / float(data['overview']['SharesOutstanding']), 2)\n",
    "# print(\"SHARE PRICE from EBITDA: \", share_price) # NOTE: SEEMS TO BE CURRENT YEAR. \n",
    "\n",
    "# #TODO: Calculate share price from EBITDA for past 11-yrs"
   ]
  },
  {
   "cell_type": "code",
   "execution_count": null,
   "metadata": {},
   "outputs": [],
   "source": []
  }
 ],
 "metadata": {
  "kernelspec": {
   "display_name": "Python 3",
   "language": "python",
   "name": "python3"
  },
  "language_info": {
   "codemirror_mode": {
    "name": "ipython",
    "version": 3
   },
   "file_extension": ".py",
   "mimetype": "text/x-python",
   "name": "python",
   "nbconvert_exporter": "python",
   "pygments_lexer": "ipython3",
   "version": "3.6.9-final"
  }
 },
 "nbformat": 4,
 "nbformat_minor": 2
}