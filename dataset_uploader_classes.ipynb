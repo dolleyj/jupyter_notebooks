{
 "cells": [
  {
   "cell_type": "markdown",
   "metadata": {},
   "source": [
    "# Descriptions of uploader classes and methods\n",
    "'''\n",
    "1) Determine FileType: xlsx, mex, h5ad, h5_from_10x\n",
    "2) Based on filetype, create a Class object that is specific to the FileType\n",
    "    - different filetypes require different processing and handling\n",
    "    - class - xlsx\n",
    "        - method - open and read excel file into an AnnData object\n",
    "            - 1st option: use scanpy's read_excel(file)\n",
    "                - Can't do. scanpy uses AnnData lib to read the excel file. AnnData's read.py is limited\n",
    "                  to reading 1 sheet, which becomes '.X' of the AnnData object\n",
    "                - Links:\n",
    "                    scanpy - https://scanpy.readthedocs.io/en/latest/api/scanpy.api.read_excel.html#scanpy.api.read_excel\n",
    "                    AnnData - https://github.com/theislab/anndata/blob/master/anndata/readwrite/read.py#L40\n",
    "            - 2nd option: use pandas.read_excel to import all sheets\n",
    "            - 3rd option: use python module (xlrd?) to parse out info\n",
    "        - method? - validation checks\n",
    "            - check which sheets are present.\n",
    "                - required - 'expression' and 'observation'\n",
    "                - optional - 'genes'\n",
    "            - validate # observations in 'observation' sheet equals # observations in 'expression' sheet\n",
    "            - validate observation names in 'observation' sheet equal those in 'expression' sheet\n",
    "            - If 'genes' sheet present, validate # genes in 'genes' sheet equals # genes in 'expression' sheet\n",
    "            - If 'genes' sheet present, validate gene names in 'genes' sheet equal those in 'expression' sheet\n",
    "            - check 'expression' contains no strings in matrix\n",
    "        - method - validate gene symbols / ensembl ids with gEAR MySQL\n",
    "            - new Global function\n",
    "        - method - calculate averages, standard_deviations, p-values from replicates\n",
    "            - ? TODO ?: Add FDR and standard_errors ?\n",
    "            -use new Global functions:\n",
    "                - calc_average()\n",
    "                - calc_std_dev()\n",
    "                - calc_pval()\n",
    "        - method - calculate coloring values\n",
    "            - gene based color & abs color\n",
    "            - tissue based color & abs color\n",
    "            - dataset based color & abs color\n",
    "    - class - mex\n",
    "    - class - h5ad\n",
    "    - class - h5_from_10x\n",
    "3) Handle unstructured metadata (xlsx, txt, or json?)\n",
    "'''"
   ]
  },
  {
   "cell_type": "code",
   "execution_count": 1,
   "metadata": {},
   "outputs": [
    {
     "data": {
      "text/plain": [
       "<__main__.upload_dataset.<locals>.Excel at 0x7f7410eff518>"
      ]
     },
     "execution_count": 1,
     "metadata": {},
     "output_type": "execute_result"
    }
   ],
   "source": [
    "\n",
    "\n",
    "#reference: http://python-3-patterns-idioms-test.readthedocs.io/en/latest/Factory.html#preventing-direct-creation\n",
    "\n",
    "class FileType(object):\n",
    "    filetypes = []\n",
    "    \n",
    "def upload_dataset(filetype):\n",
    "    #This factory nests the dataset filetype classes. Preventing them from being directly called\n",
    "    # dataset = upload_dataset('excel')\n",
    "    #   creates an Excel class object which now can be processed for uploading\n",
    "    class Excel(FileType):\n",
    "        def _read_file(self):\n",
    "            # 3 options: \n",
    "            #   1. request scanpy writers to add multiple sheets to scanpy.read_excel\n",
    "            #   2. use pandas.read_excel to import all sheets (3 separate DataFrames I think)\n",
    "            #   3. suboptimal - use python module to parse out info (xlrd?)\n",
    "\n",
    "            # NOTE: Depending on the end format of _read_file(), will determine a lot \n",
    "            #       of how this work and reusable by other FileType objects (Mex, H5ad, H510x) \n",
    "            validate_dataset(self)\n",
    "            # RETURNS AnnData object or pandas dataframe\n",
    "            pass\n",
    "\n",
    "        def _add_calculated_values(self):\n",
    "            #calculate statistical values\n",
    "            calc_average()\n",
    "            calc_pval()\n",
    "            calc_std_dev()\n",
    "            calc_std_err() #TODO?\n",
    "            calc_fdr() #TODO?\n",
    "            pass\n",
    "\n",
    "        def _add_color_values(self):\n",
    "            #calculate raw and absolute coloring\n",
    "            get_color_gene()\n",
    "            get_color_tissue()\n",
    "            get_color_dataset()\n",
    "            get_color_abs_gene()\n",
    "            get_color_abs_tissue()\n",
    "            get_color_abs_dataset()\n",
    "\n",
    "        pass\n",
    "\n",
    "    class Mex(FileType):\n",
    "        pass\n",
    "    class H5ad(FileType):\n",
    "        pass\n",
    "    class H510x(FileType):\n",
    "        pass\n",
    "    if filetype == \"excel\": return Excel()\n",
    "    if filetype == \"mex\": return Mex()\n",
    "    if filetype == \"h5ad\": return H5ad()\n",
    "    if filetype == \"hdf5\": return H510x()\n",
    "    assert 0, \"Do not recognize file type given: \" + filetype\n",
    "\n",
    "\n",
    "\n",
    "# ----- helper functions ----- #\n",
    "# How these are performed depends on whether UploadFileTypeObject is AnnData vs pandas DataFrames\n",
    "\n",
    "def validate_dataset(UploadFileTypeObject):\n",
    "    # Runs validation checks:\n",
    "    #   1. 'expression' and 'observation' sheets present? Is optional sheet 'genes' present?\n",
    "    #   2. # rows in 'observation' == # columns in 'expression'\n",
    "    #   3. names in 'observation' == names in 'expression'\n",
    "    #   4. # rows in 'genes' == # rows in 'expression' (If 'genes' present)\n",
    "    #   5. name in 'genes' == names in 'expression' (If 'genes' present)\n",
    "    #   6. 'expression' sheet lacks string values\n",
    "    # Raise Error if any above tests fail\n",
    "    pass\n",
    "        \n",
    "def validate_genes(UploadFileTypeObject):\n",
    "    # After the data file is loaded as a object:\n",
    "    #   1. Connect to gEAR MySQL and create a cache of genes (denoting primary and secondary symbols)\n",
    "    #   2. Use cached genes to generate a list of genes that:\n",
    "    #       A. Are not in the database\n",
    "    #       B. Are duplicated secondary gene symbols. The primary is already present.\n",
    "    #   3. Return list to user of what genes were skipped \n",
    "        \n",
    "    # optional: This function could also remove those not found/skipped genes? \n",
    "    pass\n",
    "\n",
    "def calc_average():\n",
    "    pass\n",
    "\n",
    "def calc_pval():\n",
    "    pass\n",
    "\n",
    "def calc_std_dev():\n",
    "    pass\n",
    "\n",
    "def calc_std_err():\n",
    "    #TODO: Are we doing this?\n",
    "    # was requested by Seth a ways back\n",
    "    pass\n",
    "def calc_fdr():\n",
    "    #TODO: Are we doing this?\n",
    "    # corrected pvalue\n",
    "    pass\n",
    "\n",
    "def get_color_gene():\n",
    "    pass\n",
    "def get_color_tissue():\n",
    "    pass\n",
    "def get_color_dataset():\n",
    "    pass\n",
    "\n",
    "def get_color_abs_gene():\n",
    "    pass\n",
    "def get_color_abs_tissue():\n",
    "    pass    \n",
    "def get_color_abs_dataset():\n",
    "    pass\n",
    "\n",
    "# Create an excel object\n",
    "x = upload_dataset('excel')\n",
    "x"
   ]
  },
  {
   "cell_type": "code",
   "execution_count": 2,
   "metadata": {},
   "outputs": [],
   "source": [
    "# import scanpy.api as sc\n",
    "# file = '/home/dolley/gear/tests/base_template.xlsx'\n",
    "# # sheet = 'expression'\n",
    "# expression = sc.read_excel(file, 'expression')\n",
    "# observations = sc.read_excel(file, 'observations')\n",
    "# genes = sc.read_excel(file, 'genes')\n",
    "\n",
    "\n"
   ]
  },
  {
   "cell_type": "code",
   "execution_count": 3,
   "metadata": {},
   "outputs": [],
   "source": [
    "# expression.T"
   ]
  },
  {
   "cell_type": "code",
   "execution_count": 4,
   "metadata": {
    "scrolled": true
   },
   "outputs": [],
   "source": [
    "# expression.var"
   ]
  },
  {
   "cell_type": "code",
   "execution_count": 22,
   "metadata": {
    "scrolled": true
   },
   "outputs": [],
   "source": [
    "import numpy as np\n",
    "import pandas as pd\n",
    "import scanpy.api as sc\n",
    "filepath = '/home/dolley/gear/tests/base_template.xlsx'\n",
    "try:\n",
    "    df = pd.read_excel(filepath, sheet_name='expression', index_col=0).transpose()\n",
    "except :\n",
    "    raise Exception(\"No expression sheet found. Expected spreadsheet sheet named 'expression'.\")\n",
    "\n",
    "try:\n",
    "    X = df.values[:, 0:].astype(float)\n",
    "except ValueError:\n",
    "    raise Exception(\"Encountered unexpected value type. Expected float type in expression matrix.\")\n",
    "\n",
    "# Get counts of genes and observations from expression\n",
    "number_genes_from_exp, number_obs_from_exp = X.shape"
   ]
  },
  {
   "cell_type": "code",
   "execution_count": 24,
   "metadata": {
    "scrolled": true
   },
   "outputs": [
    {
     "name": "stdout",
     "output_type": "stream",
     "text": [
      "<class 'int'> 18\n",
      "<class 'int'> 100\n"
     ]
    }
   ],
   "source": [
    "# Get the observations\n",
    "# filepath = '/home/dolley/gear/tests/2_absent_obs_sheet.xlsx'\n",
    "try:\n",
    "    obs_df = pd.read_excel(filepath, sheet_name='observations', index_col=0)\n",
    "except ValueError:\n",
    "    raise Exception(\"No observations sheet found. Expected spreadsheet sheet named 'observations'.\")\n",
    "\n",
    "# Verify number observations equal those found in expression sheet\n",
    "number_obs, number_cond = obs_df.shape\n",
    "print(type(number_obs), number_obs)\n",
    "print(type(number_obs_from_exp), number_obs_from_exp)\n",
    "# if number_obs != number_obs_from_exp:\n",
    "#     raise Exception(\"Observation count discrepancy. Row count({0}) in 'observations' sheet must match column count of 'expression' sheet({1}).\".format(number_obs, number_obs_from_exp))"
   ]
  },
  {
   "cell_type": "code",
   "execution_count": 64,
   "metadata": {},
   "outputs": [
    {
     "name": "stdout",
     "output_type": "stream",
     "text": [
      "df index:\n",
      " Index(['obs-ctrl-1-0h', 'obs-ctrl-2-0h', 'obs-ctrl-3-0h', 'obs-trt-1-0h',\n",
      "       'obs-trt-2-0h', 'obs-trt-3-0h', 'obs-ctrl-1-24h', 'obs-ctrl-2-24h',\n",
      "       'obs-ctrl-3-24h', 'obs-trt-1-24h', 'obs-trt-2-24h', 'obs-trt-3-24h',\n",
      "       'obs-ctrl-1-48h', 'obs-ctrl-2-48h', 'obs-ctrl-3-48h', 'obs-trt-1-48h',\n",
      "       'obs-trt-2-48h', 'obs-trt-3-48h'],\n",
      "      dtype='object')\n",
      "obs_df index:\n",
      " Index(['obs-trt-3-48h', 'obs-ctrl-2-0h', 'obs-ctrl-3-0h', 'obs-trt-1-0h',\n",
      "       'obs-trt-2-0h', 'obs-trt-3-0h', 'obs-ctrl-1-24h', 'obs-ctrl-2-24h',\n",
      "       'obs-ctrl-3-24h', 'obs-trt-1-24h', 'obs-trt-2-24h', 'obs-trt-3-24h',\n",
      "       'obs-ctrl-1-48h', 'obs-ctrl-2-48h', 'obs-ctrl-3-48h', 'obs-trt-1-48h',\n",
      "       'obs-trt-2-48h', 'obs-ctrl-1-0h'],\n",
      "      dtype='object')\n",
      "Not a match :(\n"
     ]
    }
   ],
   "source": [
    "print('df index:\\n', df.index)\n",
    "print('obs_df index:\\n', obs_df.index)\n",
    "if not obs_df.index.equals(df.index):\n",
    "    print('Not a match :(')\n",
    "else:\n",
    "    print('Yay! It match!')"
   ]
  },
  {
   "cell_type": "code",
   "execution_count": 7,
   "metadata": {},
   "outputs": [
    {
     "name": "stdout",
     "output_type": "stream",
     "text": [
      "100\n"
     ]
    }
   ],
   "source": [
    "# Get the genes (if present)\n",
    "try:\n",
    "    genes_df = pd.read_excel(filepath, sheet_name='genes', index_col=0)\n",
    "except :\n",
    "    raise Exception(\"No genes sheet found. Expected genes sheet named 'genes'.\")\n",
    "\n",
    "number_genes, number_conditions = genes_df.shape\n",
    "# print(genes_df.head())\n",
    "# print(genes_df.shape)\n",
    "print(number_genes)"
   ]
  },
  {
   "cell_type": "code",
   "execution_count": 71,
   "metadata": {},
   "outputs": [
    {
     "name": "stdout",
     "output_type": "stream",
     "text": [
      "df index:\n",
      " ['ENSMUSG00000000567' 'ENSMUSG00000000568' 'ENSMUSG00000000569'\n",
      " 'ENSMUSG00000000570' 'ENSMUSG00000000571' 'ENSMUSG00000000572'\n",
      " 'ENSMUSG00000000573' 'ENSMUSG00000000574' 'ENSMUSG00000000575'\n",
      " 'ENSMUSG00000000576' 'ENSMUSG00000000577' 'ENSMUSG00000000578'\n",
      " 'ENSMUSG00000000579' 'ENSMUSG00000000580' 'ENSMUSG00000000581'\n",
      " 'ENSMUSG00000000582' 'ENSMUSG00000000583' 'ENSMUSG00000000584'\n",
      " 'ENSMUSG00000000585' 'ENSMUSG00000000586' 'ENSMUSG00000000587'\n",
      " 'ENSMUSG00000000588' 'ENSMUSG00000000589' 'ENSMUSG00000000590'\n",
      " 'ENSMUSG00000000591' 'ENSMUSG00000000592' 'ENSMUSG00000000593'\n",
      " 'ENSMUSG00000000594' 'ENSMUSG00000000595' 'ENSMUSG00000000596'\n",
      " 'ENSMUSG00000000597' 'ENSMUSG00000000598' 'ENSMUSG00000000599'\n",
      " 'ENSMUSG00000000600' 'ENSMUSG00000000601' 'ENSMUSG00000000602'\n",
      " 'ENSMUSG00000000603' 'ENSMUSG00000000604' 'ENSMUSG00000000605'\n",
      " 'ENSMUSG00000000606' 'ENSMUSG00000000607' 'ENSMUSG00000000608'\n",
      " 'ENSMUSG00000000609' 'ENSMUSG00000000610' 'ENSMUSG00000000611'\n",
      " 'ENSMUSG00000000612' 'ENSMUSG00000000613' 'ENSMUSG00000000614'\n",
      " 'ENSMUSG00000000615' 'ENSMUSG00000000616' 'ENSMUSG00000000617'\n",
      " 'ENSMUSG00000000618' 'ENSMUSG00000000619' 'ENSMUSG00000000620'\n",
      " 'ENSMUSG00000000621' 'ENSMUSG00000000622' 'ENSMUSG00000000623'\n",
      " 'ENSMUSG00000000624' 'ENSMUSG00000000625' 'ENSMUSG00000000626'\n",
      " 'ENSMUSG00000000627' 'ENSMUSG00000000628' 'ENSMUSG00000000629'\n",
      " 'ENSMUSG00000000630' 'ENSMUSG00000000631' 'ENSMUSG00000000632'\n",
      " 'ENSMUSG00000000633' 'ENSMUSG00000000634' 'ENSMUSG00000000635'\n",
      " 'ENSMUSG00000000636' 'ENSMUSG00000000637' 'ENSMUSG00000000638'\n",
      " 'ENSMUSG00000000639' 'ENSMUSG00000000640' 'ENSMUSG00000000641'\n",
      " 'ENSMUSG00000000642' 'ENSMUSG00000000643' 'ENSMUSG00000000644'\n",
      " 'ENSMUSG00000000645' 'ENSMUSG00000000646' 'ENSMUSG00000000647'\n",
      " 'ENSMUSG00000000648' 'ENSMUSG00000000649' 'ENSMUSG00000000650'\n",
      " 'ENSMUSG00000000651' 'ENSMUSG00000000652' 'ENSMUSG00000000653'\n",
      " 'ENSMUSG00000000654' 'ENSMUSG00000000655' 'ENSMUSG00000000656'\n",
      " 'ENSMUSG00000000657' 'ENSMUSG00000000658' 'ENSMUSG00000000659'\n",
      " 'ENSMUSG00000000660' 'ENSMUSG00000000661' 'ENSMUSG00000000662'\n",
      " 'ENSMUSG00000000663' 'ENSMUSG00000000664' 'ENSMUSG00000000665'\n",
      " 'ENSMUSG00000000666']\n",
      "genes_df index:\n",
      " Index(['ENSMUSG00000000567', 'ENSMUSG00000000568', 'ENSMUSG00000000569',\n",
      "       'ENSMUSG00000000570', 'ENSMUSG00000000571', 'ENSMUSG00000000572',\n",
      "       'ENSMUSG00000000573', 'ENSMUSG00000000574', 'ENSMUSG00000000575',\n",
      "       'ENSMUSG00000000576', 'ENSMUSG00000000577', 'ENSMUSG00000000578',\n",
      "       'ENSMUSG00000000579', 'ENSMUSG00000000580', 'ENSMUSG00000000581',\n",
      "       'ENSMUSG00000000582', 'ENSMUSG00000000583', 'ENSMUSG00000000584',\n",
      "       'ENSMUSG00000000585', 'ENSMUSG00000000586', 'ENSMUSG00000000587',\n",
      "       'ENSMUSG00000000588', 'ENSMUSG00000000589', 'ENSMUSG00000000590',\n",
      "       'ENSMUSG00000000591', 'ENSMUSG00000000592', 'ENSMUSG00000000593',\n",
      "       'ENSMUSG00000000594', 'ENSMUSG00000000595', 'ENSMUSG00000000596',\n",
      "       'ENSMUSG00000000597', 'ENSMUSG00000000598', 'ENSMUSG00000000599',\n",
      "       'ENSMUSG00000000600', 'ENSMUSG00000000601', 'ENSMUSG00000000602',\n",
      "       'ENSMUSG00000000603', 'ENSMUSG00000000604', 'ENSMUSG00000000605',\n",
      "       'ENSMUSG00000000606', 'ENSMUSG00000000607', 'ENSMUSG00000000608',\n",
      "       'ENSMUSG00000000609', 'ENSMUSG00000000610', 'ENSMUSG00000000611',\n",
      "       'ENSMUSG00000000612', 'ENSMUSG00000000613', 'ENSMUSG00000000614',\n",
      "       'ENSMUSG00000000615', 'ENSMUSG00000000616', 'ENSMUSG00000000617',\n",
      "       'ENSMUSG00000000618', 'ENSMUSG00000000619', 'ENSMUSG00000000620',\n",
      "       'ENSMUSG00000000621', 'ENSMUSG00000000622', 'ENSMUSG00000000623',\n",
      "       'ENSMUSG00000000624', 'ENSMUSG00000000625', 'ENSMUSG00000000626',\n",
      "       'ENSMUSG00000000627', 'ENSMUSG00000000628', 'ENSMUSG00000000629',\n",
      "       'ENSMUSG00000000630', 'ENSMUSG00000000631', 'ENSMUSG00000000632',\n",
      "       'ENSMUSG00000000633', 'ENSMUSG00000000634', 'ENSMUSG00000000635',\n",
      "       'ENSMUSG00000000636', 'ENSMUSG00000000637', 'ENSMUSG00000000638',\n",
      "       'ENSMUSG00000000639', 'ENSMUSG00000000640', 'ENSMUSG00000000641',\n",
      "       'ENSMUSG00000000642', 'ENSMUSG00000000643', 'ENSMUSG00000000644',\n",
      "       'ENSMUSG00000000645', 'ENSMUSG00000000646', 'ENSMUSG00000000647',\n",
      "       'ENSMUSG00000000648', 'ENSMUSG00000000649', 'ENSMUSG00000000650',\n",
      "       'ENSMUSG00000000651', 'ENSMUSG00000000652', 'ENSMUSG00000000653',\n",
      "       'ENSMUSG00000000654', 'ENSMUSG00000000655', 'ENSMUSG00000000656',\n",
      "       'ENSMUSG00000000657', 'ENSMUSG00000000658', 'ENSMUSG00000000659',\n",
      "       'ENSMUSG00000000660', 'ENSMUSG00000000661', 'ENSMUSG00000000662',\n",
      "       'ENSMUSG00000000663', 'ENSMUSG00000000664', 'ENSMUSG00000000665',\n",
      "       'ENSMUSG00000000666'],\n",
      "      dtype='object')\n",
      "Yay! It match!\n"
     ]
    }
   ],
   "source": [
    "print('df columns:\\n', df.columns.values)\n",
    "print('genes_df index:\\n', genes_df.index)\n",
    "if not genes_df.index.equals(df.columns):\n",
    "    print('Not a match :(')\n",
    "else:\n",
    "    print('Yay! It match!')"
   ]
  },
  {
   "cell_type": "code",
   "execution_count": 8,
   "metadata": {},
   "outputs": [
    {
     "data": {
      "text/plain": [
       "AnnData object with n_obs × n_vars = 18 × 100 \n",
       "    obs_keys = ['cell_type', 'condition', 'replicate', 'time_point', 'time_unit']\n",
       "    var_keys = ['gene_symbol']"
      ]
     },
     "execution_count": 8,
     "metadata": {},
     "output_type": "execute_result"
    }
   ],
   "source": [
    "import anndata\n",
    "\n",
    "adata = anndata.AnnData(X=X, obs=obs_df, var=genes_df)\n",
    "# adata = anndata.AnnData(X=X, obs=genes_df, var=obs_df)\n",
    "\n",
    "# adata = anndata.AnnData(X=X.T, obs=obs_df, var=genes_df)\n",
    "# adata = anndata.AnnData(X=X.T, obs=genes_df, var=obs_df)\n",
    "\n",
    "adata"
   ]
  },
  {
   "cell_type": "code",
   "execution_count": 9,
   "metadata": {},
   "outputs": [
    {
     "data": {
      "text/html": [
       "<div>\n",
       "<style scoped>\n",
       "    .dataframe tbody tr th:only-of-type {\n",
       "        vertical-align: middle;\n",
       "    }\n",
       "\n",
       "    .dataframe tbody tr th {\n",
       "        vertical-align: top;\n",
       "    }\n",
       "\n",
       "    .dataframe thead th {\n",
       "        text-align: right;\n",
       "    }\n",
       "</style>\n",
       "<table border=\"1\" class=\"dataframe\">\n",
       "  <thead>\n",
       "    <tr style=\"text-align: right;\">\n",
       "      <th></th>\n",
       "      <th>gene_symbol</th>\n",
       "    </tr>\n",
       "  </thead>\n",
       "  <tbody>\n",
       "    <tr>\n",
       "      <th>ENSMUSG00000000567</th>\n",
       "      <td>Gnai3</td>\n",
       "    </tr>\n",
       "    <tr>\n",
       "      <th>ENSMUSG00000000568</th>\n",
       "      <td>Pbsn</td>\n",
       "    </tr>\n",
       "    <tr>\n",
       "      <th>ENSMUSG00000000569</th>\n",
       "      <td>Cdc45l</td>\n",
       "    </tr>\n",
       "    <tr>\n",
       "      <th>ENSMUSG00000000570</th>\n",
       "      <td>H19</td>\n",
       "    </tr>\n",
       "    <tr>\n",
       "      <th>ENSMUSG00000000571</th>\n",
       "      <td>Scml2</td>\n",
       "    </tr>\n",
       "  </tbody>\n",
       "</table>\n",
       "</div>"
      ],
      "text/plain": [
       "                   gene_symbol\n",
       "ENSMUSG00000000567       Gnai3\n",
       "ENSMUSG00000000568        Pbsn\n",
       "ENSMUSG00000000569      Cdc45l\n",
       "ENSMUSG00000000570         H19\n",
       "ENSMUSG00000000571       Scml2"
      ]
     },
     "execution_count": 9,
     "metadata": {},
     "output_type": "execute_result"
    }
   ],
   "source": [
    "# Is this formatted like in gEAR?\n",
    "adata.var.head()"
   ]
  },
  {
   "cell_type": "code",
   "execution_count": 10,
   "metadata": {},
   "outputs": [
    {
     "data": {
      "text/html": [
       "<div>\n",
       "<style scoped>\n",
       "    .dataframe tbody tr th:only-of-type {\n",
       "        vertical-align: middle;\n",
       "    }\n",
       "\n",
       "    .dataframe tbody tr th {\n",
       "        vertical-align: top;\n",
       "    }\n",
       "\n",
       "    .dataframe thead th {\n",
       "        text-align: right;\n",
       "    }\n",
       "</style>\n",
       "<table border=\"1\" class=\"dataframe\">\n",
       "  <thead>\n",
       "    <tr style=\"text-align: right;\">\n",
       "      <th></th>\n",
       "    </tr>\n",
       "    <tr>\n",
       "      <th>index</th>\n",
       "    </tr>\n",
       "  </thead>\n",
       "  <tbody>\n",
       "    <tr>\n",
       "      <th>Xkr4</th>\n",
       "    </tr>\n",
       "    <tr>\n",
       "      <th>Gm1992</th>\n",
       "    </tr>\n",
       "    <tr>\n",
       "      <th>Gm37381</th>\n",
       "    </tr>\n",
       "    <tr>\n",
       "      <th>Rp1</th>\n",
       "    </tr>\n",
       "    <tr>\n",
       "      <th>Rp1</th>\n",
       "    </tr>\n",
       "  </tbody>\n",
       "</table>\n",
       "</div>"
      ],
      "text/plain": [
       "Empty DataFrame\n",
       "Columns: []\n",
       "Index: [Xkr4, Gm1992, Gm37381, Rp1, Rp1]"
      ]
     },
     "execution_count": 10,
     "metadata": {},
     "output_type": "execute_result"
    }
   ],
   "source": [
    "### CHECK a gEAR h5ad to validate format\n",
    "dataset = '/home/dolley/gear/www/datasets/17429ab6-d5f5-4f0a-8a1c-ce7d523a96f7.h5ad'\n",
    "\n",
    "gear_adata = sc.read_h5ad(dataset)\n",
    "gear_adata.var.head()\n"
   ]
  },
  {
   "cell_type": "code",
   "execution_count": 11,
   "metadata": {},
   "outputs": [
    {
     "name": "stdout",
     "output_type": "stream",
     "text": [
      "Expression:\t92.0\t.var:  Gnai3\t.obs:\n",
      "cell_type     utricle\n",
      "condition     control\n",
      "replicate           2\n",
      "time_point          0\n",
      "time_unit        hour\n",
      "Name: obs-ctrl-2-0h, dtype: object\n"
     ]
    }
   ],
   "source": [
    "print(\"Expression:\\t\" + str(adata.X[1,0]) + \"\\t.var:  \" + str(adata.var.iloc[0,0]) + \"\\t.obs:\\n\" + str(adata.obs.iloc[1]))"
   ]
  },
  {
   "cell_type": "code",
   "execution_count": 12,
   "metadata": {},
   "outputs": [
    {
     "data": {
      "text/html": [
       "<div>\n",
       "<style scoped>\n",
       "    .dataframe tbody tr th:only-of-type {\n",
       "        vertical-align: middle;\n",
       "    }\n",
       "\n",
       "    .dataframe tbody tr th {\n",
       "        vertical-align: top;\n",
       "    }\n",
       "\n",
       "    .dataframe thead th {\n",
       "        text-align: right;\n",
       "    }\n",
       "</style>\n",
       "<table border=\"1\" class=\"dataframe\">\n",
       "  <thead>\n",
       "    <tr style=\"text-align: right;\">\n",
       "      <th></th>\n",
       "      <th>gene_symbol</th>\n",
       "    </tr>\n",
       "  </thead>\n",
       "  <tbody>\n",
       "    <tr>\n",
       "      <th>ENSMUSG00000000567</th>\n",
       "      <td>Gnai3</td>\n",
       "    </tr>\n",
       "    <tr>\n",
       "      <th>ENSMUSG00000000568</th>\n",
       "      <td>Pbsn</td>\n",
       "    </tr>\n",
       "    <tr>\n",
       "      <th>ENSMUSG00000000569</th>\n",
       "      <td>Cdc45l</td>\n",
       "    </tr>\n",
       "    <tr>\n",
       "      <th>ENSMUSG00000000570</th>\n",
       "      <td>H19</td>\n",
       "    </tr>\n",
       "    <tr>\n",
       "      <th>ENSMUSG00000000571</th>\n",
       "      <td>Scml2</td>\n",
       "    </tr>\n",
       "  </tbody>\n",
       "</table>\n",
       "</div>"
      ],
      "text/plain": [
       "                   gene_symbol\n",
       "ENSMUSG00000000567       Gnai3\n",
       "ENSMUSG00000000568        Pbsn\n",
       "ENSMUSG00000000569      Cdc45l\n",
       "ENSMUSG00000000570         H19\n",
       "ENSMUSG00000000571       Scml2"
      ]
     },
     "execution_count": 12,
     "metadata": {},
     "output_type": "execute_result"
    }
   ],
   "source": [
    "adata.var.head()"
   ]
  },
  {
   "cell_type": "markdown",
   "metadata": {},
   "source": [
    "# Test ExcelUploader\n",
    "* Excel class is renamed to ExcelUploader()\n",
    "* upload_dataset.py is renamed to datasetuploader.py\n",
    "    * upload_dataset method is now nested under new class DatasetUploader"
   ]
  },
  {
   "cell_type": "code",
   "execution_count": 13,
   "metadata": {},
   "outputs": [],
   "source": [
    "# import os, sys\n",
    "# sys.path.append('/home/dolley/gear/lib')\n",
    "# import gear.datasetuploader as datasetuploader\n",
    "# # dataset = datasetuploader.DatasetUploader.upload_dataset('excel')\n",
    "# filetype = datasetuploader.FileType()\n",
    "# filetype"
   ]
  },
  {
   "cell_type": "code",
   "execution_count": 14,
   "metadata": {},
   "outputs": [],
   "source": [
    "# dataset = datasetuploader.DatasetUploader.upload_dataset('excel')"
   ]
  },
  {
   "cell_type": "code",
   "execution_count": 15,
   "metadata": {},
   "outputs": [
    {
     "ename": "Exception",
     "evalue": "Observation count discrepancy. Row count (16) in 'observations' sheet must match column count of 'expression' sheet(18).",
     "output_type": "error",
     "traceback": [
      "\u001b[0;31m---------------------------------------------------------------------------\u001b[0m",
      "\u001b[0;31mException\u001b[0m                                 Traceback (most recent call last)",
      "\u001b[0;32m<ipython-input-15-14be334e5e12>\u001b[0m in \u001b[0;36m<module>\u001b[0;34m()\u001b[0m\n\u001b[1;32m      6\u001b[0m \u001b[0mtest_file\u001b[0m \u001b[0;34m=\u001b[0m \u001b[0;34m'/home/dolley/gear/tests/3_obs_count_mismatch_exp.xlsx'\u001b[0m\u001b[0;34m\u001b[0m\u001b[0m\n\u001b[1;32m      7\u001b[0m \u001b[0mdataset\u001b[0m \u001b[0;34m=\u001b[0m \u001b[0mdatasetuploader\u001b[0m\u001b[0;34m.\u001b[0m\u001b[0mDatasetUploader\u001b[0m\u001b[0;34m.\u001b[0m\u001b[0mupload_dataset\u001b[0m\u001b[0;34m(\u001b[0m\u001b[0;34m'excel'\u001b[0m\u001b[0;34m)\u001b[0m\u001b[0;34m\u001b[0m\u001b[0m\n\u001b[0;32m----> 8\u001b[0;31m \u001b[0madata\u001b[0m \u001b[0;34m=\u001b[0m \u001b[0mdataset\u001b[0m\u001b[0;34m.\u001b[0m\u001b[0m_read_file\u001b[0m\u001b[0;34m(\u001b[0m\u001b[0mtest_file\u001b[0m\u001b[0;34m)\u001b[0m\u001b[0;34m\u001b[0m\u001b[0m\n\u001b[0m\u001b[1;32m      9\u001b[0m \u001b[0madata\u001b[0m\u001b[0;34m\u001b[0m\u001b[0m\n",
      "\u001b[0;32m~/gear/lib/gear/exceluploader.py\u001b[0m in \u001b[0;36m_read_file\u001b[0;34m(self, filepath)\u001b[0m\n\u001b[1;32m     67\u001b[0m         \u001b[0mnumber_obs\u001b[0m\u001b[0;34m,\u001b[0m \u001b[0mnumber_cond\u001b[0m \u001b[0;34m=\u001b[0m \u001b[0mobs_df\u001b[0m\u001b[0;34m.\u001b[0m\u001b[0mshape\u001b[0m\u001b[0;34m\u001b[0m\u001b[0m\n\u001b[1;32m     68\u001b[0m         \u001b[0;32mif\u001b[0m \u001b[0mnumber_obs\u001b[0m \u001b[0;34m!=\u001b[0m \u001b[0mnumber_obs_from_exp\u001b[0m\u001b[0;34m:\u001b[0m\u001b[0;34m\u001b[0m\u001b[0m\n\u001b[0;32m---> 69\u001b[0;31m             \u001b[0;32mraise\u001b[0m \u001b[0mException\u001b[0m\u001b[0;34m(\u001b[0m\u001b[0;34m\"Observation count discrepancy. Row count ({0}) in 'observations' sheet must match column count of 'expression' sheet({1}).\"\u001b[0m\u001b[0;34m.\u001b[0m\u001b[0mformat\u001b[0m\u001b[0;34m(\u001b[0m\u001b[0mnumber_obs\u001b[0m\u001b[0;34m,\u001b[0m \u001b[0mnumber_obs_from_exp\u001b[0m\u001b[0;34m)\u001b[0m\u001b[0;34m)\u001b[0m\u001b[0;34m\u001b[0m\u001b[0m\n\u001b[0m\u001b[1;32m     70\u001b[0m \u001b[0;34m\u001b[0m\u001b[0m\n\u001b[1;32m     71\u001b[0m         \u001b[0;31m# Get the genes (if present)\u001b[0m\u001b[0;34m\u001b[0m\u001b[0;34m\u001b[0m\u001b[0m\n",
      "\u001b[0;31mException\u001b[0m: Observation count discrepancy. Row count (16) in 'observations' sheet must match column count of 'expression' sheet(18)."
     ]
    }
   ],
   "source": [
    "import os, sys\n",
    "sys.path.append('/home/dolley/gear/lib')\n",
    "import gear.datasetuploader as datasetuploader\n",
    "\n",
    "# test_file = '/home/dolley/gear/tests/base_template.xlsx'\n",
    "test_file = '/home/dolley/gear/tests/3_obs_count_mismatch_exp.xlsx'\n",
    "dataset = datasetuploader.DatasetUploader.upload_dataset('excel')\n",
    "adata = dataset._read_file(test_file)\n",
    "adata"
   ]
  },
  {
   "cell_type": "code",
   "execution_count": null,
   "metadata": {},
   "outputs": [],
   "source": [
    "adata.var.head()"
   ]
  },
  {
   "cell_type": "code",
   "execution_count": null,
   "metadata": {},
   "outputs": [],
   "source": []
  }
 ],
 "metadata": {
  "kernelspec": {
   "display_name": "Python 3",
   "language": "python",
   "name": "python3"
  },
  "language_info": {
   "codemirror_mode": {
    "name": "ipython",
    "version": 3
   },
   "file_extension": ".py",
   "mimetype": "text/x-python",
   "name": "python",
   "nbconvert_exporter": "python",
   "pygments_lexer": "ipython3",
   "version": "3.5.2"
  }
 },
 "nbformat": 4,
 "nbformat_minor": 2
}
